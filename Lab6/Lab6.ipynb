{
 "cells": [
  {
   "cell_type": "markdown",
   "metadata": {
    "collapsed": true,
    "pycharm": {
     "name": "#%% md\n"
    }
   },
   "source": [
    "# Laboratorio 6\n",
    "### Analítica de Redes Sociales\n",
    "\n",
    "### Integrantes\n",
    "|      Nombre     | Carnet |\n",
    "|:---------------:|:------:|\n",
    "| André Rodríguez |  18332 |\n",
    "|   Cesar Rodas   |  16776 |\n",
    "|  Javier Ramirez |  18099 |\n",
    "\n",
    "### Importación de librerías\n",
    "Importamos las librerías necesarias"
   ]
  },
  {
   "cell_type": "code",
   "execution_count": 1,
   "outputs": [
    {
     "name": "stderr",
     "output_type": "stream",
     "text": [
      "[nltk_data] Downloading package stopwords to\n",
      "[nltk_data]     C:\\Users\\andrerodriguez\\AppData\\Roaming\\nltk_data...\n",
      "[nltk_data]   Package stopwords is already up-to-date!\n"
     ]
    }
   ],
   "source": [
    "import pandas as pd\n",
    "import numpy as np\n",
    "import re\n",
    "import nltk\n",
    "\n",
    "nltk.download('stopwords')\n",
    "\n",
    "from nltk.corpus import stopwords"
   ],
   "metadata": {
    "collapsed": false,
    "pycharm": {
     "name": "#%%\n"
    }
   }
  },
  {
   "cell_type": "code",
   "execution_count": 2,
   "outputs": [],
   "source": [
    "# lista de stopwords\n",
    "stopwords_list = stopwords.words('spanish')"
   ],
   "metadata": {
    "collapsed": false,
    "pycharm": {
     "name": "#%%\n"
    }
   }
  },
  {
   "cell_type": "markdown",
   "source": [
    "### Extracción de datos\n",
    "Extraemos los datos de las tres librerías"
   ],
   "metadata": {
    "collapsed": false
   }
  },
  {
   "cell_type": "code",
   "execution_count": 3,
   "outputs": [],
   "source": [
    "trafico_df = pd.read_excel('traficogt.xlsx', engine='openpyxl')\n",
    "transito_df = pd.read_excel('transitogt.xlsx', engine='openpyxl')\n",
    "twdt_df = pd.read_excel('TwitterData.xlsx', engine='openpyxl')"
   ],
   "metadata": {
    "collapsed": false,
    "pycharm": {
     "name": "#%%\n"
    }
   }
  },
  {
   "cell_type": "code",
   "execution_count": 4,
   "outputs": [
    {
     "data": {
      "text/plain": "              Tweet Id                                               Text  \\\n0  1434977774297653256  RT @Noti_Atlantico : 🔴#HECHOSGT | Accidente de...   \n1  1434964000719114260  RT @Niachapina : Hoy, 12pm, ¡ATENTOS!... se pu...   \n2  1434954993782640641  RT @Noti_Atlantico : 🔴#HECHOSGT | Accidente de...   \n3  1434942884122439688  RT @Noti_Atlantico : 🔴#HECHOSGT | Accidente de...   \n4  1434942001565286404  🔴#HECHOSGT | Accidente de #TransitoGT en #Carr...   \n\n                     Name      Screen Name                       UTC  \\\n0               Mompirris      mompirris27  2021-09-06T20:32:16.000Z   \n1          Leonel Sanchez   Leosanchez1988  2021-09-06T19:37:32.000Z   \n2            Nancy Karina      KaryHuertas  2021-09-06T19:01:45.000Z   \n3            @cesardelcid  cesarde98629408  2021-09-06T18:13:38.000Z   \n4  Noticias Del Atlántico   Noti_Atlantico  2021-09-06T18:10:07.000Z   \n\n                       Created At  Favorites  Retweets Language  \\\n0  Mon Sep 06 20:32:16 +0000 2021          0         0       es   \n1  Mon Sep 06 19:37:32 +0000 2021          0         0       es   \n2  Mon Sep 06 19:01:45 +0000 2021          0         0       es   \n3  Mon Sep 06 18:13:38 +0000 2021          0         0       es   \n4  Mon Sep 06 18:10:07 +0000 2021         18         4       es   \n\n                                              Client Tweet Type URLs  \\\n0  <a href=\"http://twitter.com/download/android\" ...    Retweet  NaN   \n1  <a href=\"https://mobile.twitter.com\" rel=\"nofo...    Retweet  NaN   \n2  <a href=\"http://twitter.com/download/iphone\" r...    Retweet  NaN   \n3  <a href=\"http://twitter.com/download/android\" ...    Retweet  NaN   \n4  <a href=\"http://twitter.com/download/android\" ...      Tweet  NaN   \n\n   Hashtags  Mentions Media Type  \\\n0         4         0      photo   \n1         4         1        NaN   \n2         4         0      photo   \n3         4         0      photo   \n4         4         0      photo   \n\n                                        Media URLs  \\\n0  https://pbs.twimg.com/media/E-nwJH5XIAEgVTr.jpg   \n1                                              NaN   \n2  https://pbs.twimg.com/media/E-nwJH5XIAEgVTr.jpg   \n3  https://pbs.twimg.com/media/E-nwJH5XIAEgVTr.jpg   \n4  https://pbs.twimg.com/media/E-nwJH5XIAEgVTr.jpg   \n\n                                       Unnamed: 16 Unnamed: 17 Unnamed: 18  \n0  https://pbs.twimg.com/media/E-nwJVFX0AYrrVF.jpg         NaN         NaN  \n1                                              NaN         NaN         NaN  \n2  https://pbs.twimg.com/media/E-nwJVFX0AYrrVF.jpg         NaN         NaN  \n3  https://pbs.twimg.com/media/E-nwJVFX0AYrrVF.jpg         NaN         NaN  \n4  https://pbs.twimg.com/media/E-nwJVFX0AYrrVF.jpg         NaN         NaN  ",
      "text/html": "<div>\n<style scoped>\n    .dataframe tbody tr th:only-of-type {\n        vertical-align: middle;\n    }\n\n    .dataframe tbody tr th {\n        vertical-align: top;\n    }\n\n    .dataframe thead th {\n        text-align: right;\n    }\n</style>\n<table border=\"1\" class=\"dataframe\">\n  <thead>\n    <tr style=\"text-align: right;\">\n      <th></th>\n      <th>Tweet Id</th>\n      <th>Text</th>\n      <th>Name</th>\n      <th>Screen Name</th>\n      <th>UTC</th>\n      <th>Created At</th>\n      <th>Favorites</th>\n      <th>Retweets</th>\n      <th>Language</th>\n      <th>Client</th>\n      <th>Tweet Type</th>\n      <th>URLs</th>\n      <th>Hashtags</th>\n      <th>Mentions</th>\n      <th>Media Type</th>\n      <th>Media URLs</th>\n      <th>Unnamed: 16</th>\n      <th>Unnamed: 17</th>\n      <th>Unnamed: 18</th>\n    </tr>\n  </thead>\n  <tbody>\n    <tr>\n      <th>0</th>\n      <td>1434977774297653256</td>\n      <td>RT @Noti_Atlantico : 🔴#HECHOSGT | Accidente de...</td>\n      <td>Mompirris</td>\n      <td>mompirris27</td>\n      <td>2021-09-06T20:32:16.000Z</td>\n      <td>Mon Sep 06 20:32:16 +0000 2021</td>\n      <td>0</td>\n      <td>0</td>\n      <td>es</td>\n      <td>&lt;a href=\"http://twitter.com/download/android\" ...</td>\n      <td>Retweet</td>\n      <td>NaN</td>\n      <td>4</td>\n      <td>0</td>\n      <td>photo</td>\n      <td>https://pbs.twimg.com/media/E-nwJH5XIAEgVTr.jpg</td>\n      <td>https://pbs.twimg.com/media/E-nwJVFX0AYrrVF.jpg</td>\n      <td>NaN</td>\n      <td>NaN</td>\n    </tr>\n    <tr>\n      <th>1</th>\n      <td>1434964000719114260</td>\n      <td>RT @Niachapina : Hoy, 12pm, ¡ATENTOS!... se pu...</td>\n      <td>Leonel Sanchez</td>\n      <td>Leosanchez1988</td>\n      <td>2021-09-06T19:37:32.000Z</td>\n      <td>Mon Sep 06 19:37:32 +0000 2021</td>\n      <td>0</td>\n      <td>0</td>\n      <td>es</td>\n      <td>&lt;a href=\"https://mobile.twitter.com\" rel=\"nofo...</td>\n      <td>Retweet</td>\n      <td>NaN</td>\n      <td>4</td>\n      <td>1</td>\n      <td>NaN</td>\n      <td>NaN</td>\n      <td>NaN</td>\n      <td>NaN</td>\n      <td>NaN</td>\n    </tr>\n    <tr>\n      <th>2</th>\n      <td>1434954993782640641</td>\n      <td>RT @Noti_Atlantico : 🔴#HECHOSGT | Accidente de...</td>\n      <td>Nancy Karina</td>\n      <td>KaryHuertas</td>\n      <td>2021-09-06T19:01:45.000Z</td>\n      <td>Mon Sep 06 19:01:45 +0000 2021</td>\n      <td>0</td>\n      <td>0</td>\n      <td>es</td>\n      <td>&lt;a href=\"http://twitter.com/download/iphone\" r...</td>\n      <td>Retweet</td>\n      <td>NaN</td>\n      <td>4</td>\n      <td>0</td>\n      <td>photo</td>\n      <td>https://pbs.twimg.com/media/E-nwJH5XIAEgVTr.jpg</td>\n      <td>https://pbs.twimg.com/media/E-nwJVFX0AYrrVF.jpg</td>\n      <td>NaN</td>\n      <td>NaN</td>\n    </tr>\n    <tr>\n      <th>3</th>\n      <td>1434942884122439688</td>\n      <td>RT @Noti_Atlantico : 🔴#HECHOSGT | Accidente de...</td>\n      <td>@cesardelcid</td>\n      <td>cesarde98629408</td>\n      <td>2021-09-06T18:13:38.000Z</td>\n      <td>Mon Sep 06 18:13:38 +0000 2021</td>\n      <td>0</td>\n      <td>0</td>\n      <td>es</td>\n      <td>&lt;a href=\"http://twitter.com/download/android\" ...</td>\n      <td>Retweet</td>\n      <td>NaN</td>\n      <td>4</td>\n      <td>0</td>\n      <td>photo</td>\n      <td>https://pbs.twimg.com/media/E-nwJH5XIAEgVTr.jpg</td>\n      <td>https://pbs.twimg.com/media/E-nwJVFX0AYrrVF.jpg</td>\n      <td>NaN</td>\n      <td>NaN</td>\n    </tr>\n    <tr>\n      <th>4</th>\n      <td>1434942001565286404</td>\n      <td>🔴#HECHOSGT | Accidente de #TransitoGT en #Carr...</td>\n      <td>Noticias Del Atlántico</td>\n      <td>Noti_Atlantico</td>\n      <td>2021-09-06T18:10:07.000Z</td>\n      <td>Mon Sep 06 18:10:07 +0000 2021</td>\n      <td>18</td>\n      <td>4</td>\n      <td>es</td>\n      <td>&lt;a href=\"http://twitter.com/download/android\" ...</td>\n      <td>Tweet</td>\n      <td>NaN</td>\n      <td>4</td>\n      <td>0</td>\n      <td>photo</td>\n      <td>https://pbs.twimg.com/media/E-nwJH5XIAEgVTr.jpg</td>\n      <td>https://pbs.twimg.com/media/E-nwJVFX0AYrrVF.jpg</td>\n      <td>NaN</td>\n      <td>NaN</td>\n    </tr>\n  </tbody>\n</table>\n</div>"
     },
     "execution_count": 4,
     "metadata": {},
     "output_type": "execute_result"
    }
   ],
   "source": [
    "transito_df.head()"
   ],
   "metadata": {
    "collapsed": false,
    "pycharm": {
     "name": "#%%\n"
    }
   }
  },
  {
   "cell_type": "code",
   "execution_count": 5,
   "outputs": [
    {
     "data": {
      "text/plain": "              Tweet Id                                               Text  \\\n0  1435035044624707593  RT @Niachapina : ¡OJO! Vean lo que ya se está ...   \n1  1435025210802118657  RT @Niachapina : ¡OJO! Vean lo que ya se está ...   \n2  1435024076192497664  RT @Niachapina : ¡OJO! Vean lo que ya se está ...   \n3  1435020431866662912  RT @Niachapina : ¡OJO! Vean lo que ya se está ...   \n4  1435014375610388493  #TraficoGT  🚨🚨👉 https://t.co/iaHmWbJnx3\\n\\nIng...   \n\n               Name      Screen Name                       UTC  \\\n0        ☞Dεmocrito         edu_vf66  2021-09-07T00:19:50.000Z   \n1  Celso Gordillo D   Celso_Gordillo  2021-09-06T23:40:46.000Z   \n2    Miguel Oswaldo   MiguelOswaldo2  2021-09-06T23:36:15.000Z   \n3   Sergio y Bianca     SBHernandezZ  2021-09-06T23:21:47.000Z   \n4  transdocnoticias  transdocnoticia  2021-09-06T22:57:43.000Z   \n\n                       Created At  Favorites  Retweets Language  \\\n0  Tue Sep 07 00:19:50 +0000 2021          0         0       es   \n1  Mon Sep 06 23:40:46 +0000 2021          0         0       es   \n2  Mon Sep 06 23:36:15 +0000 2021          0         0       es   \n3  Mon Sep 06 23:21:47 +0000 2021          0         0       es   \n4  Mon Sep 06 22:57:43 +0000 2021          0         0       es   \n\n                                              Client Tweet Type  \\\n0  <a href=\"http://twitter.com/download/android\" ...    Retweet   \n1  <a href=\"http://twitter.com/download/android\" ...    Retweet   \n2  <a href=\"http://twitter.com/download/android\" ...    Retweet   \n3  <a href=\"http://twitter.com/download/android\" ...    Retweet   \n4  <a href=\"https://mobile.twitter.com\" rel=\"nofo...      Tweet   \n\n                      URLs  Hashtags  Mentions Media Type  \\\n0                      NaN         2         0      photo   \n1                      NaN         2         0      photo   \n2                      NaN         2         0      photo   \n3                      NaN         2         0      photo   \n4  https://bit.ly/3DVBurQ          1         0      photo   \n\n                                        Media URLs Unnamed: 16 Unnamed: 17  \\\n0  https://pbs.twimg.com/media/E-njQGvXsAAXCC_.jpg         NaN         NaN   \n1  https://pbs.twimg.com/media/E-njQGvXsAAXCC_.jpg         NaN         NaN   \n2  https://pbs.twimg.com/media/E-njQGvXsAAXCC_.jpg         NaN         NaN   \n3  https://pbs.twimg.com/media/E-njQGvXsAAXCC_.jpg         NaN         NaN   \n4  https://pbs.twimg.com/media/E-ox8sIXEAAzOVb.png         NaN         NaN   \n\n  Unnamed: 18  \n0         NaN  \n1         NaN  \n2         NaN  \n3         NaN  \n4         NaN  ",
      "text/html": "<div>\n<style scoped>\n    .dataframe tbody tr th:only-of-type {\n        vertical-align: middle;\n    }\n\n    .dataframe tbody tr th {\n        vertical-align: top;\n    }\n\n    .dataframe thead th {\n        text-align: right;\n    }\n</style>\n<table border=\"1\" class=\"dataframe\">\n  <thead>\n    <tr style=\"text-align: right;\">\n      <th></th>\n      <th>Tweet Id</th>\n      <th>Text</th>\n      <th>Name</th>\n      <th>Screen Name</th>\n      <th>UTC</th>\n      <th>Created At</th>\n      <th>Favorites</th>\n      <th>Retweets</th>\n      <th>Language</th>\n      <th>Client</th>\n      <th>Tweet Type</th>\n      <th>URLs</th>\n      <th>Hashtags</th>\n      <th>Mentions</th>\n      <th>Media Type</th>\n      <th>Media URLs</th>\n      <th>Unnamed: 16</th>\n      <th>Unnamed: 17</th>\n      <th>Unnamed: 18</th>\n    </tr>\n  </thead>\n  <tbody>\n    <tr>\n      <th>0</th>\n      <td>1435035044624707593</td>\n      <td>RT @Niachapina : ¡OJO! Vean lo que ya se está ...</td>\n      <td>☞Dεmocrito</td>\n      <td>edu_vf66</td>\n      <td>2021-09-07T00:19:50.000Z</td>\n      <td>Tue Sep 07 00:19:50 +0000 2021</td>\n      <td>0</td>\n      <td>0</td>\n      <td>es</td>\n      <td>&lt;a href=\"http://twitter.com/download/android\" ...</td>\n      <td>Retweet</td>\n      <td>NaN</td>\n      <td>2</td>\n      <td>0</td>\n      <td>photo</td>\n      <td>https://pbs.twimg.com/media/E-njQGvXsAAXCC_.jpg</td>\n      <td>NaN</td>\n      <td>NaN</td>\n      <td>NaN</td>\n    </tr>\n    <tr>\n      <th>1</th>\n      <td>1435025210802118657</td>\n      <td>RT @Niachapina : ¡OJO! Vean lo que ya se está ...</td>\n      <td>Celso Gordillo D</td>\n      <td>Celso_Gordillo</td>\n      <td>2021-09-06T23:40:46.000Z</td>\n      <td>Mon Sep 06 23:40:46 +0000 2021</td>\n      <td>0</td>\n      <td>0</td>\n      <td>es</td>\n      <td>&lt;a href=\"http://twitter.com/download/android\" ...</td>\n      <td>Retweet</td>\n      <td>NaN</td>\n      <td>2</td>\n      <td>0</td>\n      <td>photo</td>\n      <td>https://pbs.twimg.com/media/E-njQGvXsAAXCC_.jpg</td>\n      <td>NaN</td>\n      <td>NaN</td>\n      <td>NaN</td>\n    </tr>\n    <tr>\n      <th>2</th>\n      <td>1435024076192497664</td>\n      <td>RT @Niachapina : ¡OJO! Vean lo que ya se está ...</td>\n      <td>Miguel Oswaldo</td>\n      <td>MiguelOswaldo2</td>\n      <td>2021-09-06T23:36:15.000Z</td>\n      <td>Mon Sep 06 23:36:15 +0000 2021</td>\n      <td>0</td>\n      <td>0</td>\n      <td>es</td>\n      <td>&lt;a href=\"http://twitter.com/download/android\" ...</td>\n      <td>Retweet</td>\n      <td>NaN</td>\n      <td>2</td>\n      <td>0</td>\n      <td>photo</td>\n      <td>https://pbs.twimg.com/media/E-njQGvXsAAXCC_.jpg</td>\n      <td>NaN</td>\n      <td>NaN</td>\n      <td>NaN</td>\n    </tr>\n    <tr>\n      <th>3</th>\n      <td>1435020431866662912</td>\n      <td>RT @Niachapina : ¡OJO! Vean lo que ya se está ...</td>\n      <td>Sergio y Bianca</td>\n      <td>SBHernandezZ</td>\n      <td>2021-09-06T23:21:47.000Z</td>\n      <td>Mon Sep 06 23:21:47 +0000 2021</td>\n      <td>0</td>\n      <td>0</td>\n      <td>es</td>\n      <td>&lt;a href=\"http://twitter.com/download/android\" ...</td>\n      <td>Retweet</td>\n      <td>NaN</td>\n      <td>2</td>\n      <td>0</td>\n      <td>photo</td>\n      <td>https://pbs.twimg.com/media/E-njQGvXsAAXCC_.jpg</td>\n      <td>NaN</td>\n      <td>NaN</td>\n      <td>NaN</td>\n    </tr>\n    <tr>\n      <th>4</th>\n      <td>1435014375610388493</td>\n      <td>#TraficoGT  🚨🚨👉 https://t.co/iaHmWbJnx3\\n\\nIng...</td>\n      <td>transdocnoticias</td>\n      <td>transdocnoticia</td>\n      <td>2021-09-06T22:57:43.000Z</td>\n      <td>Mon Sep 06 22:57:43 +0000 2021</td>\n      <td>0</td>\n      <td>0</td>\n      <td>es</td>\n      <td>&lt;a href=\"https://mobile.twitter.com\" rel=\"nofo...</td>\n      <td>Tweet</td>\n      <td>https://bit.ly/3DVBurQ</td>\n      <td>1</td>\n      <td>0</td>\n      <td>photo</td>\n      <td>https://pbs.twimg.com/media/E-ox8sIXEAAzOVb.png</td>\n      <td>NaN</td>\n      <td>NaN</td>\n      <td>NaN</td>\n    </tr>\n  </tbody>\n</table>\n</div>"
     },
     "execution_count": 5,
     "metadata": {},
     "output_type": "execute_result"
    }
   ],
   "source": [
    "trafico_df.head()"
   ],
   "metadata": {
    "collapsed": false,
    "pycharm": {
     "name": "#%%\n"
    }
   }
  },
  {
   "cell_type": "code",
   "execution_count": 6,
   "outputs": [
    {
     "data": {
      "text/plain": "             id                      created_at  \\\n0  1.433969e+18  Sat Sep 04 01:45:16 +0000 2021   \n1  1.433969e+18  Sat Sep 04 01:44:38 +0000 2021   \n2  1.433969e+18  Sat Sep 04 01:42:59 +0000 2021   \n3  1.433968e+18  Sat Sep 04 01:41:34 +0000 2021   \n4  1.433967e+18  Sat Sep 04 01:35:09 +0000 2021   \n\n                                              source  \\\n0  <a href=\"https://mobile.twitter.com\" rel=\"nofo...   \n1  <a href=\"http://twitter.com/download/android\" ...   \n2  <a href=\"http://twitter.com/download/android\" ...   \n3  <a href=\"https://mobile.twitter.com\" rel=\"nofo...   \n4  <a href=\"http://twitter.com/download/android\" ...   \n\n                                       original_text  \\\n0  #TraficoGT | Atención, reportan un accidente d...   \n1  @traficogt @AlvaroArzuE @DUnionistas Ah, pues ...   \n2  Tomen sus precauciones necesarias, las lluvias...   \n3  @vichoguate @traficogt QUE VERGUENZA QUE DONE ...   \n4  RT @machavarria2016: @hocsignus @traficogt Dic...   \n\n                                          clean_text  \\\n0  TraficoGT Atención reportan accidente transito...   \n1  traficogt AlvaroArzuE DUnionistas Ah pues unio...   \n2  Tomen precauciones necesarias lluvias torrenci...   \n3  vichoguate traficogt QUE VERGUENZA QUE DONE A ...   \n4  RT machavarria2016 hocsignus traficogt Diciemb...   \n\n                                   sentiment  polarity  subjectivity lang  \\\n0  Sentiment(polarity=0.0, subjectivity=0.0)       0.0           0.0   es   \n1  Sentiment(polarity=0.0, subjectivity=0.0)       0.0           0.0   es   \n2  Sentiment(polarity=0.0, subjectivity=0.0)       0.0           0.0   es   \n3  Sentiment(polarity=0.0, subjectivity=0.0)       0.0           0.0   es   \n4  Sentiment(polarity=0.0, subjectivity=0.0)       0.0           0.0   es   \n\n   favorite_count  ...  place_coord_boundaries in_reply_to_status_id  \\\n0               0  ...                     NaN                   NaN   \n1               0  ...                     NaN          1.433959e+18   \n2               0  ...                     NaN          1.433938e+18   \n3               0  ...                     NaN          1.433940e+18   \n4               0  ...                     NaN                   NaN   \n\n   in_reply_to_user_id in_reply_to_screen_name user_followers_count  \\\n0                  NaN                     NaN               151753   \n1           93938886.0               traficogt                 5252   \n2          796436880.0             AlertaGt502                14373   \n3          258996349.0              vichoguate                   24   \n4                  NaN                     NaN                  781   \n\n  friends_count is_quote_status  favorited  retweeted is_retweet  \n0             0               0          0          0          0  \n1           291               0          0          0          0  \n2          2724               0          0          0          0  \n3           470               0          0          0          0  \n4           771               0          0          0          1  \n\n[5 rows x 26 columns]",
      "text/html": "<div>\n<style scoped>\n    .dataframe tbody tr th:only-of-type {\n        vertical-align: middle;\n    }\n\n    .dataframe tbody tr th {\n        vertical-align: top;\n    }\n\n    .dataframe thead th {\n        text-align: right;\n    }\n</style>\n<table border=\"1\" class=\"dataframe\">\n  <thead>\n    <tr style=\"text-align: right;\">\n      <th></th>\n      <th>id</th>\n      <th>created_at</th>\n      <th>source</th>\n      <th>original_text</th>\n      <th>clean_text</th>\n      <th>sentiment</th>\n      <th>polarity</th>\n      <th>subjectivity</th>\n      <th>lang</th>\n      <th>favorite_count</th>\n      <th>...</th>\n      <th>place_coord_boundaries</th>\n      <th>in_reply_to_status_id</th>\n      <th>in_reply_to_user_id</th>\n      <th>in_reply_to_screen_name</th>\n      <th>user_followers_count</th>\n      <th>friends_count</th>\n      <th>is_quote_status</th>\n      <th>favorited</th>\n      <th>retweeted</th>\n      <th>is_retweet</th>\n    </tr>\n  </thead>\n  <tbody>\n    <tr>\n      <th>0</th>\n      <td>1.433969e+18</td>\n      <td>Sat Sep 04 01:45:16 +0000 2021</td>\n      <td>&lt;a href=\"https://mobile.twitter.com\" rel=\"nofo...</td>\n      <td>#TraficoGT | Atención, reportan un accidente d...</td>\n      <td>TraficoGT Atención reportan accidente transito...</td>\n      <td>Sentiment(polarity=0.0, subjectivity=0.0)</td>\n      <td>0.0</td>\n      <td>0.0</td>\n      <td>es</td>\n      <td>0</td>\n      <td>...</td>\n      <td>NaN</td>\n      <td>NaN</td>\n      <td>NaN</td>\n      <td>NaN</td>\n      <td>151753</td>\n      <td>0</td>\n      <td>0</td>\n      <td>0</td>\n      <td>0</td>\n      <td>0</td>\n    </tr>\n    <tr>\n      <th>1</th>\n      <td>1.433969e+18</td>\n      <td>Sat Sep 04 01:44:38 +0000 2021</td>\n      <td>&lt;a href=\"http://twitter.com/download/android\" ...</td>\n      <td>@traficogt @AlvaroArzuE @DUnionistas Ah, pues ...</td>\n      <td>traficogt AlvaroArzuE DUnionistas Ah pues unio...</td>\n      <td>Sentiment(polarity=0.0, subjectivity=0.0)</td>\n      <td>0.0</td>\n      <td>0.0</td>\n      <td>es</td>\n      <td>0</td>\n      <td>...</td>\n      <td>NaN</td>\n      <td>1.433959e+18</td>\n      <td>93938886.0</td>\n      <td>traficogt</td>\n      <td>5252</td>\n      <td>291</td>\n      <td>0</td>\n      <td>0</td>\n      <td>0</td>\n      <td>0</td>\n    </tr>\n    <tr>\n      <th>2</th>\n      <td>1.433969e+18</td>\n      <td>Sat Sep 04 01:42:59 +0000 2021</td>\n      <td>&lt;a href=\"http://twitter.com/download/android\" ...</td>\n      <td>Tomen sus precauciones necesarias, las lluvias...</td>\n      <td>Tomen precauciones necesarias lluvias torrenci...</td>\n      <td>Sentiment(polarity=0.0, subjectivity=0.0)</td>\n      <td>0.0</td>\n      <td>0.0</td>\n      <td>es</td>\n      <td>0</td>\n      <td>...</td>\n      <td>NaN</td>\n      <td>1.433938e+18</td>\n      <td>796436880.0</td>\n      <td>AlertaGt502</td>\n      <td>14373</td>\n      <td>2724</td>\n      <td>0</td>\n      <td>0</td>\n      <td>0</td>\n      <td>0</td>\n    </tr>\n    <tr>\n      <th>3</th>\n      <td>1.433968e+18</td>\n      <td>Sat Sep 04 01:41:34 +0000 2021</td>\n      <td>&lt;a href=\"https://mobile.twitter.com\" rel=\"nofo...</td>\n      <td>@vichoguate @traficogt QUE VERGUENZA QUE DONE ...</td>\n      <td>vichoguate traficogt QUE VERGUENZA QUE DONE A ...</td>\n      <td>Sentiment(polarity=0.0, subjectivity=0.0)</td>\n      <td>0.0</td>\n      <td>0.0</td>\n      <td>es</td>\n      <td>0</td>\n      <td>...</td>\n      <td>NaN</td>\n      <td>1.433940e+18</td>\n      <td>258996349.0</td>\n      <td>vichoguate</td>\n      <td>24</td>\n      <td>470</td>\n      <td>0</td>\n      <td>0</td>\n      <td>0</td>\n      <td>0</td>\n    </tr>\n    <tr>\n      <th>4</th>\n      <td>1.433967e+18</td>\n      <td>Sat Sep 04 01:35:09 +0000 2021</td>\n      <td>&lt;a href=\"http://twitter.com/download/android\" ...</td>\n      <td>RT @machavarria2016: @hocsignus @traficogt Dic...</td>\n      <td>RT machavarria2016 hocsignus traficogt Diciemb...</td>\n      <td>Sentiment(polarity=0.0, subjectivity=0.0)</td>\n      <td>0.0</td>\n      <td>0.0</td>\n      <td>es</td>\n      <td>0</td>\n      <td>...</td>\n      <td>NaN</td>\n      <td>NaN</td>\n      <td>NaN</td>\n      <td>NaN</td>\n      <td>781</td>\n      <td>771</td>\n      <td>0</td>\n      <td>0</td>\n      <td>0</td>\n      <td>1</td>\n    </tr>\n  </tbody>\n</table>\n<p>5 rows × 26 columns</p>\n</div>"
     },
     "execution_count": 6,
     "metadata": {},
     "output_type": "execute_result"
    }
   ],
   "source": [
    "twdt_df.head()"
   ],
   "metadata": {
    "collapsed": false,
    "pycharm": {
     "name": "#%%\n"
    }
   }
  },
  {
   "cell_type": "markdown",
   "source": [
    "Empezamos con el preprocesamiento:"
   ],
   "metadata": {
    "collapsed": false,
    "pycharm": {
     "name": "#%% md\n"
    }
   }
  },
  {
   "cell_type": "code",
   "execution_count": 7,
   "outputs": [],
   "source": [
    "ord_characters = [ord('á'), ord('é'), ord('í'), ord('ó'), ord('ú')]"
   ],
   "metadata": {
    "collapsed": false,
    "pycharm": {
     "name": "#%%\n"
    }
   }
  },
  {
   "cell_type": "code",
   "execution_count": 8,
   "outputs": [],
   "source": [
    "# funcion para limpiar archivos\n",
    "def clean_txt(str):\n",
    "    return_text = ''\n",
    "    # removiendo links\n",
    "    text = re.sub(r'(https|http)?:\\/\\/(\\w|\\.|\\/|\\?|\\=|\\&|\\%)*\\b', '', str)\n",
    "\n",
    "    # remover caracteres\n",
    "    for i, caracter in enumerate(text):\n",
    "        # convierte a minusculas\n",
    "        caracter = caracter.lower()\n",
    "        try:\n",
    "            # remueve cualquier caracter que no sea una letra minuscula o espacio, incluyendo numeros\n",
    "            if ord(caracter) != 32 and (ord(caracter) < 97 or ord(caracter) > 122) and ord(caracter) not in ord_characters :\n",
    "                return_text = return_text + ''\n",
    "            else:\n",
    "                return_text = return_text + caracter\n",
    "        except:\n",
    "            return_text = return_text + ''\n",
    "\n",
    "\n",
    "    return return_text.strip()"
   ],
   "metadata": {
    "collapsed": false,
    "pycharm": {
     "name": "#%%\n"
    }
   }
  },
  {
   "cell_type": "code",
   "execution_count": 9,
   "outputs": [],
   "source": [
    "# funcion para remover stepwords\n",
    "def remove_stepwords(str):\n",
    "    word_tokens = str.split()\n",
    "    clean_str = ''\n",
    "\n",
    "    for word in word_tokens:\n",
    "        if word not in stopwords_list:\n",
    "            if clean_str == '':\n",
    "                clean_str += word\n",
    "            else:\n",
    "                clean_str += ' ' + word\n",
    "\n",
    "    return clean_str"
   ],
   "metadata": {
    "collapsed": false,
    "pycharm": {
     "name": "#%%\n"
    }
   }
  },
  {
   "cell_type": "code",
   "execution_count": 10,
   "outputs": [],
   "source": [
    "transito_np = transito_df.to_numpy()\n",
    "trafico_np = trafico_df.to_numpy()\n",
    "twdt_np = twdt_df.to_numpy()"
   ],
   "metadata": {
    "collapsed": false,
    "pycharm": {
     "name": "#%%\n"
    }
   }
  },
  {
   "cell_type": "code",
   "execution_count": 11,
   "outputs": [],
   "source": [
    "for i in range(len(transito_np)):\n",
    "    transito_np[i][1] =  remove_stepwords(clean_txt(transito_np[i][1]))"
   ],
   "metadata": {
    "collapsed": false,
    "pycharm": {
     "name": "#%%\n"
    }
   }
  },
  {
   "cell_type": "code",
   "execution_count": 12,
   "outputs": [],
   "source": [
    "for i in range(len(trafico_np)):\n",
    "    trafico_np[i][1] =  remove_stepwords(clean_txt(trafico_np[i][1]))"
   ],
   "metadata": {
    "collapsed": false,
    "pycharm": {
     "name": "#%%\n"
    }
   }
  },
  {
   "cell_type": "code",
   "execution_count": 13,
   "outputs": [],
   "source": [
    "for i in range(len(twdt_np)):\n",
    "    twdt_np[i][3] =  remove_stepwords(clean_txt(twdt_np[i][3]))"
   ],
   "metadata": {
    "collapsed": false,
    "pycharm": {
     "name": "#%%\n"
    }
   }
  },
  {
   "cell_type": "code",
   "execution_count": 14,
   "outputs": [
    {
     "data": {
      "text/plain": "array([[1434977774297653256,\n        'rt notiatlantico hechosgt accidente transitogt carreteraalatlántico jurisdicción sanarate elprogreso reportan persona fallecida',\n        'Mompirris', 'mompirris27', '2021-09-06T20:32:16.000Z',\n        'Mon Sep 06 20:32:16 +0000 2021', 0, 0, 'es',\n        '<a href=\"http://twitter.com/download/android\" rel=\"nofollow\">Twitter for Android</a>',\n        'Retweet', nan, 4, 0, 'photo',\n        'https://pbs.twimg.com/media/E-nwJH5XIAEgVTr.jpg',\n        'https://pbs.twimg.com/media/E-nwJVFX0AYrrVF.jpg', nan, nan],\n       [1434964000719114260,\n        'rt niachapina hoy pm atentos puede llevar cabo mayor traición pueblo traficogt transitogt noalestadodecalamidad dao pueblo robo másfiscalicen drgiammattei diga dondeestaeldinero',\n        'Leonel Sanchez', 'Leosanchez1988', '2021-09-06T19:37:32.000Z',\n        'Mon Sep 06 19:37:32 +0000 2021', 0, 0, 'es',\n        '<a href=\"https://mobile.twitter.com\" rel=\"nofollow\">Twitter Web App</a>',\n        'Retweet', nan, 4, 1, nan, nan, nan, nan, nan],\n       [1434954993782640641,\n        'rt notiatlantico hechosgt accidente transitogt carreteraalatlántico jurisdicción sanarate elprogreso reportan persona fallecida',\n        'Nancy Karina', 'KaryHuertas', '2021-09-06T19:01:45.000Z',\n        'Mon Sep 06 19:01:45 +0000 2021', 0, 0, 'es',\n        '<a href=\"http://twitter.com/download/iphone\" rel=\"nofollow\">Twitter for iPhone</a>',\n        'Retweet', nan, 4, 0, 'photo',\n        'https://pbs.twimg.com/media/E-nwJH5XIAEgVTr.jpg',\n        'https://pbs.twimg.com/media/E-nwJVFX0AYrrVF.jpg', nan, nan],\n       [1434942884122439688,\n        'rt notiatlantico hechosgt accidente transitogt carreteraalatlántico jurisdicción sanarate elprogreso reportan persona fallecida',\n        '@cesardelcid', 'cesarde98629408', '2021-09-06T18:13:38.000Z',\n        'Mon Sep 06 18:13:38 +0000 2021', 0, 0, 'es',\n        '<a href=\"http://twitter.com/download/android\" rel=\"nofollow\">Twitter for Android</a>',\n        'Retweet', nan, 4, 0, 'photo',\n        'https://pbs.twimg.com/media/E-nwJH5XIAEgVTr.jpg',\n        'https://pbs.twimg.com/media/E-nwJVFX0AYrrVF.jpg', nan, nan],\n       [1434942001565286404,\n        'hechosgt accidente transitogt carreteraalatlántico jurisdicción sanarate elprogreso reportan persona fallecida',\n        'Noticias Del Atlántico', 'Noti_Atlantico',\n        '2021-09-06T18:10:07.000Z', 'Mon Sep 06 18:10:07 +0000 2021', 18,\n        4, 'es',\n        '<a href=\"http://twitter.com/download/android\" rel=\"nofollow\">Twitter for Android</a>',\n        'Tweet', nan, 4, 0, 'photo',\n        'https://pbs.twimg.com/media/E-nwJH5XIAEgVTr.jpg',\n        'https://pbs.twimg.com/media/E-nwJVFX0AYrrVF.jpg', nan, nan],\n       [1434932184679428096,\n        'rt amilcarmontejo brinda apoyo vial bulevar juan pablo ii calle zona vehículo averiadopmtguatemalaentodo transitogt traficogt',\n        'Luisa', 'Luisa36956804', '2021-09-06T17:31:07.000Z',\n        'Mon Sep 06 17:31:07 +0000 2021', 0, 0, 'es',\n        '<a href=\"http://twitter.com/download/android\" rel=\"nofollow\">Twitter for Android</a>',\n        'Retweet', nan, 3, 0, 'photo',\n        'https://pbs.twimg.com/media/E-nk-raWYAQQBBy.jpg', nan, nan, nan],\n       [1434929729694486551,\n        'brinda apoyo vial bulevar juan pablo ii calle zona vehículo averiadopmtguatemalaentodo transitogt traficogt',\n        'Amilcar Montejo', 'amilcarmontejo', '2021-09-06T17:21:21.000Z',\n        'Mon Sep 06 17:21:21 +0000 2021', 14, 2, 'es',\n        '<a href=\"http://twitter.com/download/iphone\" rel=\"nofollow\">Twitter for iPhone</a>',\n        'Tweet', nan, 3, 0, 'photo',\n        'https://pbs.twimg.com/media/E-nk-raWYAQQBBy.jpg', nan, nan, nan],\n       [1434929219834875912,\n        'rt amilcarmontejo grua desperfectos mecánicos trébol vista hermosa yendo zona ruta salvador proceden retiro pmtguatemalaentodo transitogt traficogt',\n        'Movilidadynoticias', 'MovilidadNews',\n        '2021-09-06T17:19:20.000Z', 'Mon Sep 06 17:19:20 +0000 2021', 0,\n        0, 'es',\n        '<a href=\"https://mobile.twitter.com\" rel=\"nofollow\">Twitter Web App</a>',\n        'Retweet', nan, 3, 0, 'video',\n        'https://video.twimg.com/ext_tw_video/1434924551385780228/pu/pl/Eedos-wl4c6YkIOj.m3u8?tag=12&container=fmp4',\n        nan, nan, nan],\n       [1434928765214265351,\n        'periférico calle zona camión fallas mecánicas siendo retirado tramo sur precaución maniobraspmtguatemalaentodo transitogt traficogt',\n        'Amilcar Montejo', 'amilcarmontejo', '2021-09-06T17:17:31.000Z',\n        'Mon Sep 06 17:17:31 +0000 2021', 6, 0, 'es',\n        '<a href=\"http://twitter.com/download/iphone\" rel=\"nofollow\">Twitter for iPhone</a>',\n        'Tweet', nan, 3, 0, 'photo',\n        'https://pbs.twimg.com/media/E-nkGtaXMAIBOVt.jpg', nan, nan, nan],\n       [1434928016241659913,\n        'automóvil averiado retirándolo calle avenida zona rumbo calle martí pmtguatemalaentodo transitogt traficogt',\n        'Amilcar Montejo', 'amilcarmontejo', '2021-09-06T17:14:33.000Z',\n        'Mon Sep 06 17:14:33 +0000 2021', 18, 1, 'es',\n        '<a href=\"http://twitter.com/download/iphone\" rel=\"nofollow\">Twitter for iPhone</a>',\n        'Tweet', nan, 3, 0, 'photo',\n        'https://pbs.twimg.com/media/E-njbOKXIA8bgJM.jpg', nan, nan, nan]],\n      dtype=object)"
     },
     "execution_count": 14,
     "metadata": {},
     "output_type": "execute_result"
    }
   ],
   "source": [
    "transito_np[0 : 10]"
   ],
   "metadata": {
    "collapsed": false,
    "pycharm": {
     "name": "#%%\n"
    }
   }
  },
  {
   "cell_type": "code",
   "execution_count": 15,
   "outputs": [
    {
     "data": {
      "text/plain": "array([[1435035044624707593,\n        'rt niachapina ojo vean fraguando congreso pilas guatemala van meter gol guatemala robos descaradosatenta guate traficogt noalestadodecalamidad',\n        '☞Dεmocrito', 'edu_vf66', '2021-09-07T00:19:50.000Z',\n        'Tue Sep 07 00:19:50 +0000 2021', 0, 0, 'es',\n        '<a href=\"http://twitter.com/download/android\" rel=\"nofollow\">Twitter for Android</a>',\n        'Retweet', nan, 2, 0, 'photo',\n        'https://pbs.twimg.com/media/E-njQGvXsAAXCC_.jpg', nan, nan, nan],\n       [1435025210802118657,\n        'rt niachapina ojo vean fraguando congreso pilas guatemala van meter gol guatemala robos descaradosatenta guate traficogt noalestadodecalamidad',\n        'Celso Gordillo D', 'Celso_Gordillo', '2021-09-06T23:40:46.000Z',\n        'Mon Sep 06 23:40:46 +0000 2021', 0, 0, 'es',\n        '<a href=\"http://twitter.com/download/android\" rel=\"nofollow\">Twitter for Android</a>',\n        'Retweet', nan, 2, 0, 'photo',\n        'https://pbs.twimg.com/media/E-njQGvXsAAXCC_.jpg', nan, nan, nan],\n       [1435024076192497664,\n        'rt niachapina ojo vean fraguando congreso pilas guatemala van meter gol guatemala robos descaradosatenta guate traficogt noalestadodecalamidad',\n        'Miguel Oswaldo', 'MiguelOswaldo2', '2021-09-06T23:36:15.000Z',\n        'Mon Sep 06 23:36:15 +0000 2021', 0, 0, 'es',\n        '<a href=\"http://twitter.com/download/android\" rel=\"nofollow\">Twitter for Android</a>',\n        'Retweet', nan, 2, 0, 'photo',\n        'https://pbs.twimg.com/media/E-njQGvXsAAXCC_.jpg', nan, nan, nan],\n       [1435020431866662912,\n        'rt niachapina ojo vean fraguando congreso pilas guatemala van meter gol guatemala robos descaradosatenta guate traficogt noalestadodecalamidad',\n        'Sergio y Bianca', 'SBHernandezZ', '2021-09-06T23:21:47.000Z',\n        'Mon Sep 06 23:21:47 +0000 2021', 0, 0, 'es',\n        '<a href=\"http://twitter.com/download/android\" rel=\"nofollow\">Twitter for Android</a>',\n        'Retweet', nan, 2, 0, 'photo',\n        'https://pbs.twimg.com/media/E-njQGvXsAAXCC_.jpg', nan, nan, nan],\n       [1435014375610388493,\n        'traficogt ingreso bulevar sur san cristóbal km ca genera tránsito vn lento km',\n        'transdocnoticias', 'transdocnoticia',\n        '2021-09-06T22:57:43.000Z', 'Mon Sep 06 22:57:43 +0000 2021', 0,\n        0, 'es',\n        '<a href=\"https://mobile.twitter.com\" rel=\"nofollow\">Twitter Web App</a>',\n        'Tweet', 'https://bit.ly/3DVBurQ ', 1, 0, 'photo',\n        'https://pbs.twimg.com/media/E-ox8sIXEAAzOVb.png', nan, nan, nan],\n       [1435005350592266240,\n        'cada vez tráfico obliga personas viven municipios dormitorio cambiar ciertos hábitos movilidad manera puedan cumplir obligaciones laboralesleer tráficogt teleféricourbano transportepúblico',\n        'Movilidadynoticias', 'MovilidadNews',\n        '2021-09-06T22:21:51.000Z', 'Mon Sep 06 22:21:51 +0000 2021', 0,\n        0, 'es',\n        '<a href=\"https://mobile.twitter.com\" rel=\"nofollow\">Twitter Web App</a>',\n        'Tweet', 'https://bit.ly/3p1LFDT ', 3, 0, 'photo',\n        'https://pbs.twimg.com/media/E-oo3kTXEAkc7-E.jpg', nan, nan, nan],\n       [1435003336328110086,\n        'actualización línea habilita recorrido normal transmetrogt juntoslogramosmástráficogt',\n        'Transmetro Guatemala', 'TransmetroGuate',\n        '2021-09-06T22:13:51.000Z', 'Mon Sep 06 22:13:51 +0000 2021', 1,\n        0, 'es',\n        '<a href=\"https://www.hootsuite.com\" rel=\"nofollow\">Hootsuite Inc.</a>',\n        'Reply', nan, 3, 0, nan, nan, nan, nan, nan],\n       [1435002453330731012,\n        'rt niachapina ojo vean fraguando congreso pilas guatemala van meter gol guatemala robos descaradosatenta guate traficogt noalestadodecalamidad',\n        '♛♕ 𝔡αϻ𝐀𝔤ᗴ𝔻 ค𝓝Đ 𝓟€𝕥 ᖴℝＩ𝐄Ň∂𝓁Ｙ ♬🐠', 'JoshuaGnXN',\n        '2021-09-06T22:10:20.000Z', 'Mon Sep 06 22:10:20 +0000 2021', 0,\n        0, 'es',\n        '<a href=\"http://twitter.com/download/android\" rel=\"nofollow\">Twitter for Android</a>',\n        'Retweet', nan, 2, 0, 'photo',\n        'https://pbs.twimg.com/media/E-njQGvXsAAXCC_.jpg', nan, nan, nan],\n       [1434998577152118791,\n        'guatemala traficogt eegsa suspenderá servicio electricidad mixco construcción red transmisión conozca fechas horarios áreas',\n        'transdocnoticias', 'transdocnoticia',\n        '2021-09-06T21:54:56.000Z', 'Mon Sep 06 21:54:56 +0000 2021', 1,\n        0, 'es',\n        '<a href=\"https://mobile.twitter.com\" rel=\"nofollow\">Twitter Web App</a>',\n        'Tweet', 'https://bit.ly/38IXhVB ', 2, 0, 'photo',\n        'https://pbs.twimg.com/media/E-ojlDmXsAYKnsU.png', nan, nan, nan],\n       [1434985833262575624,\n        'rt niachapina ojo vean fraguando congreso pilas guatemala van meter gol guatemala robos descaradosatenta guate traficogt noalestadodecalamidad',\n        'BYRON VILLAGRAN', 'BYRONVILLAGRAN', '2021-09-06T21:04:18.000Z',\n        'Mon Sep 06 21:04:18 +0000 2021', 0, 0, 'es',\n        '<a href=\"http://twitter.com/download/android\" rel=\"nofollow\">Twitter for Android</a>',\n        'Retweet', nan, 2, 0, 'photo',\n        'https://pbs.twimg.com/media/E-njQGvXsAAXCC_.jpg', nan, nan, nan]],\n      dtype=object)"
     },
     "execution_count": 15,
     "metadata": {},
     "output_type": "execute_result"
    }
   ],
   "source": [
    "trafico_np[0 : 10]"
   ],
   "metadata": {
    "collapsed": false,
    "pycharm": {
     "name": "#%%\n"
    }
   }
  },
  {
   "cell_type": "code",
   "execution_count": 16,
   "outputs": [
    {
     "data": {
      "text/plain": "array([[1.433969379344065e+18, 'Sat Sep 04 01:45:16 +0000 2021',\n        '<a href=\"https://mobile.twitter.com\" rel=\"nofollow\">Twitter Web App</a>',\n        'traficogt atención reportan accidente transito columpio vista hermosa dirección hacia carretera salvador tome precauciones conducir periodismoquedalacara',\n        'TraficoGT Atención reportan accidente transito Columpio Vista Hermosa dirección hacia Carretera El Salvador tome precauciones conducir PeriodismoQueDaLaCara https //t.co/SWzOwaHmY6',\n        'Sentiment(polarity=0.0, subjectivity=0.0)', 0.0, 0.0, 'es', 0,\n        0, 'RadioPuntoGT', 0.0, 'TraficoGT,PeriodismoQueDaLaCara', nan,\n        'Guatemala', nan, nan, nan, nan, 151753, 0, 0, 0, 0, 0],\n       [1.433969220979773e+18, 'Sat Sep 04 01:44:38 +0000 2021',\n        '<a href=\"http://twitter.com/download/android\" rel=\"nofollow\">Twitter for Android</a>',\n        'traficogt alvaroarzue dunionistas ah pues unionista votó improbación vez pasada vez va votar improbar',\n        'traficogt AlvaroArzuE DUnionistas Ah pues unionista votó improbación vez pasada ¿está vez va votar improbar',\n        'Sentiment(polarity=0.0, subjectivity=0.0)', 0.0, 0.0, 'es', 0,\n        0, 'rebkrriaza', nan, nan, 'traficogt,AlvaroArzuE,DUnionistas',\n        'Guatemala', nan, 1.433959421596602e+18, 93938886.0, 'traficogt',\n        5252, 291, 0, 0, 0, 0],\n       [1.433968805181546e+18, 'Sat Sep 04 01:42:59 +0000 2021',\n        '<a href=\"http://twitter.com/download/android\" rel=\"nofollow\">Twitter for Android</a>',\n        'tomen precauciones necesarias lluvias torrenciales alta verapaz actividad eléctrica vientos fuertes acompaansistemadebajapresión bajapresión climagt tiempogt tráficogt transitogt temporalgt eliunuila ottoinque otonielrivera nelsonyalibat',\n        'Tomen precauciones necesarias lluvias torrenciales Alta Verapaz actividad eléctrica vientos fuertes acompañan SistemaDeBajaPresión BajaPresión ClimaGt TiempoGt TráficoGt TransitoGt TemporalGt EliuNuila OttoInque otonielrivera32 NelsonYalibat https //t.co/uRgVUNusg2',\n        'Sentiment(polarity=0.0, subjectivity=0.0)', 0.0, 0.0, 'es', 0,\n        0, 'AlertaGt502', 0.0,\n        'SistemaDeBajaPresión,BajaPresión,ClimaGt,TiempoGt,TráficoGt,TransitoGt,TemporalGt',\n        'EliuNuila,OttoInque,otonielrivera32,NelsonYalibat', 'Guatemala',\n        nan, 1.43393838187717e+18, 796436880.0, 'AlertaGt502', 14373,\n        2724, 0, 0, 0, 0],\n       [1.43396844973953e+18, 'Sat Sep 04 01:41:34 +0000 2021',\n        '<a href=\"https://mobile.twitter.com\" rel=\"nofollow\">Twitter Web App</a>',\n        'vichoguate traficogt verguenza done guatemala si vecino haiti necesita mas calamidad terremoto prefieren dar donacion gobierno corrupto ineptos aceptan dominicanos sabran corrupcion diz gobernantes verga',\n        'vichoguate traficogt QUE VERGUENZA QUE DONE A GUATEMALA SI SU VECINO HAITI LO NECESITA MAS POR CALAMIDAD POR TERREMOTO Y PREFIEREN DAR ESA DONACION A UN GOBIERNO CORRUPTO DE INEPTOS Y ESTOS LO ACEPTAN LOS DOMINICANOS SABRAN ESTA CORRUPCION DE SUS DIZ DE GOBERNANTES A LA VERGA',\n        'Sentiment(polarity=0.0, subjectivity=0.0)', 0.0, 0.0, 'es', 0,\n        0, 'chejo65rojo', nan, nan, 'vichoguate,traficogt', nan, nan,\n        1.433940458401632e+18, 258996349.0, 'vichoguate', 24, 470, 0, 0,\n        0, 0],\n       [1.433966834504643e+18, 'Sat Sep 04 01:35:09 +0000 2021',\n        '<a href=\"http://twitter.com/download/android\" rel=\"nofollow\">Twitter for Android</a>',\n        'rt machavarria hocsignus traficogt diciembre haití',\n        'RT machavarria2016 hocsignus traficogt Diciembre Haití',\n        'Sentiment(polarity=0.0, subjectivity=0.0)', 0.0, 0.0, 'es', 0,\n        1, 'hocsignus', nan, nan, 'machavarria2016,hocsignus,traficogt',\n        'Guatemala', nan, nan, nan, nan, 781, 771, 0, 0, 0, 1],\n       [1.4339666555462e+18, 'Sat Sep 04 01:34:27 +0000 2021',\n        '<a href=\"http://twitter.com/download/android\" rel=\"nofollow\">Twitter for Android</a>',\n        'hocsignus traficogt diciembre haití',\n        'hocsignus traficogt Diciembre Haití',\n        'Sentiment(polarity=0.0, subjectivity=0.0)', 0.0, 0.0, 'es', 0,\n        1, 'machavarria2016', nan, nan, 'hocsignus,traficogt', nan, nan,\n        1.433962173240316e+18, 1.006703686486319e+18, 'hocsignus', 24,\n        74, 0, 0, 0, 0],\n       [1.433966633488355e+18, 'Sat Sep 04 01:34:21 +0000 2021',\n        '<a href=\"http://www.tweetcaster.com\" rel=\"nofollow\">TweetCaster for Android</a>',\n        'rt albakeneth alertaalbakeneth mardely yamileth sucupo tejax aos edad desapareció septiembre alde',\n        'RT alba_keneth AlertaAlbaKeneth ⚠️| Mardely Yamileth Sucupo Tejax 15 años edad Desapareció 03 septiembre 2021 Alde…',\n        'Sentiment(polarity=0.0, subjectivity=0.0)', 0.0, 0.0, 'es', 0,\n        9, 'traficogt', nan, 'AlertaAlbaKeneth', 'alba_keneth',\n        'Guatemala', nan, nan, nan, nan, 290032, 104, 0, 0, 0, 1],\n       [1.433965044551782e+18, 'Sat Sep 04 01:28:03 +0000 2021',\n        '<a href=\"http://twitter.com/download/android\" rel=\"nofollow\">Twitter for Android</a>',\n        'rt edimalejandro traficogt emisorasunidas así paso carretera q va cenma búcaro',\n        'RT edimalejandro TraficoGT EmisorasUnidas así paso carretera q va cenma Búcaro https //t.co/Wub9jPeZcp',\n        'Sentiment(polarity=0.0, subjectivity=0.0)', 0.0, 0.0, 'es', 0,\n        2, 'seguidorgt', 0.0, 'TraficoGT,EmisorasUnidas',\n        'edimalejandro', nan, nan, nan, nan, nan, 176, 336, 0, 0, 0, 1],\n       [1.433965033197814e+18, 'Sat Sep 04 01:28:00 +0000 2021',\n        '<a href=\"http://twitter.com/download/android\" rel=\"nofollow\">Twitter for Android</a>',\n        'rt edimalejandro traficogt emisorasunidas así paso carretera q va cenma búcaro',\n        'RT edimalejandro TraficoGT EmisorasUnidas así paso carretera q va cenma Búcaro https //t.co/Wub9jPeZcp',\n        'Sentiment(polarity=0.0, subjectivity=0.0)', 0.0, 0.0, 'es', 0,\n        2, 'oco_motora', 0.0, 'TraficoGT,EmisorasUnidas',\n        'edimalejandro', 'Macondo', nan, nan, nan, nan, 218, 317, 0, 0,\n        0, 1],\n       [1.433964945666871e+18, 'Sat Sep 04 01:27:39 +0000 2021',\n        '<a href=\"http://twitter.com/download/android\" rel=\"nofollow\">Twitter for Android</a>',\n        'rt alertagt actualizaciónviernes hrslluvias generalizadas guatemala efectos sistema baja presión norte d',\n        'RT AlertaGt502 Actualización Viernes 3/09 17:30hrs Lluvias generalizadas Guatemala🇬🇹 efectos Sistema Baja Presión norte d…',\n        'Sentiment(polarity=0.0, subjectivity=0.0)', 0.0, 0.0, 'es', 0,\n        3, 'ChrizEscobar', nan, nan, 'AlertaGt502', 'GT', nan, nan, nan,\n        nan, 279, 30, 0, 0, 0, 1]], dtype=object)"
     },
     "execution_count": 16,
     "metadata": {},
     "output_type": "execute_result"
    }
   ],
   "source": [
    "twdt_np[0 : 10]"
   ],
   "metadata": {
    "collapsed": false,
    "pycharm": {
     "name": "#%%\n"
    }
   }
  },
  {
   "cell_type": "markdown",
   "source": [
    "### Exportación de datos limpios a archivos csv\n",
    "Ahora terminamos por exportar la data limpia y procesada a archivos csv"
   ],
   "metadata": {
    "collapsed": false,
    "pycharm": {
     "name": "#%% md\n"
    }
   }
  },
  {
   "cell_type": "code",
   "execution_count": 17,
   "outputs": [],
   "source": [
    "clean_transito = pd.DataFrame(transito_np, columns=transito_df.columns.to_numpy())\n",
    "clean_trafico = pd.DataFrame(trafico_np, columns=trafico_df.columns.to_numpy())\n",
    "clean_twdt = pd.DataFrame(twdt_np, columns=twdt_df.columns.to_numpy())"
   ],
   "metadata": {
    "collapsed": false,
    "pycharm": {
     "name": "#%%\n"
    }
   }
  },
  {
   "cell_type": "code",
   "execution_count": 18,
   "outputs": [],
   "source": [
    "nan_value = float('NaN')\n",
    "clean_transito.replace('', nan_value, inplace=True)\n",
    "clean_transito.dropna(subset=['Text'], inplace=True)"
   ],
   "metadata": {
    "collapsed": false,
    "pycharm": {
     "name": "#%%\n"
    }
   }
  },
  {
   "cell_type": "code",
   "execution_count": 19,
   "outputs": [],
   "source": [
    "clean_transito.to_csv('clean_transito.csv', index=False)"
   ],
   "metadata": {
    "collapsed": false,
    "pycharm": {
     "name": "#%%\n"
    }
   }
  },
  {
   "cell_type": "code",
   "execution_count": 20,
   "outputs": [],
   "source": [
    "clean_trafico.replace('', nan_value, inplace=True)\n",
    "clean_trafico.dropna(subset=['Text'], inplace=True)"
   ],
   "metadata": {
    "collapsed": false,
    "pycharm": {
     "name": "#%%\n"
    }
   }
  },
  {
   "cell_type": "code",
   "execution_count": 21,
   "outputs": [],
   "source": [
    "clean_trafico.to_csv('clean_trafico.csv', index=False)"
   ],
   "metadata": {
    "collapsed": false,
    "pycharm": {
     "name": "#%%\n"
    }
   }
  },
  {
   "cell_type": "code",
   "execution_count": 22,
   "outputs": [],
   "source": [
    "clean_twdt.replace('', nan_value, inplace=True)\n",
    "clean_twdt.dropna(subset=['original_text'], inplace=True)"
   ],
   "metadata": {
    "collapsed": false,
    "pycharm": {
     "name": "#%%\n"
    }
   }
  },
  {
   "cell_type": "code",
   "execution_count": 23,
   "outputs": [],
   "source": [
    "clean_twdt.to_csv('clean_twdt.csv', index=False)"
   ],
   "metadata": {
    "collapsed": false,
    "pycharm": {
     "name": "#%%\n"
    }
   }
  }
 ],
 "metadata": {
  "kernelspec": {
   "name": "pycharm-22061887",
   "language": "python",
   "display_name": "PyCharm (Lab4)"
  },
  "language_info": {
   "codemirror_mode": {
    "name": "ipython",
    "version": 2
   },
   "file_extension": ".py",
   "mimetype": "text/x-python",
   "name": "python",
   "nbconvert_exporter": "python",
   "pygments_lexer": "ipython2",
   "version": "2.7.6"
  }
 },
 "nbformat": 4,
 "nbformat_minor": 0
}