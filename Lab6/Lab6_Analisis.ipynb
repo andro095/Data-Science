{
  "nbformat": 4,
  "nbformat_minor": 0,
  "metadata": {
    "colab": {
      "name": "Lab6_Analisis.ipynb",
      "provenance": [],
      "collapsed_sections": [
        "tFDK3OQp9SEO",
        "NENouSXE-ctk"
      ]
    },
    "kernelspec": {
      "name": "python3",
      "display_name": "Python 3"
    },
    "language_info": {
      "name": "python"
    }
  },
  "cells": [
    {
      "cell_type": "markdown",
      "metadata": {
        "id": "YLPJtklZ9J_x"
      },
      "source": [
        "# Laboratorio 6\n",
        "### Analítica de Redes Sociales\n",
        "\n",
        "### Integrantes\n",
        "|      Nombre     | Carnet |\n",
        "|:---------------:|:------:|\n",
        "| André Rodríguez |  18332 |\n",
        "|   Cesar Rodas   |  16776 |\n",
        "|  Javier Ramirez |  18099 |\n"
      ]
    },
    {
      "cell_type": "markdown",
      "metadata": {
        "id": "tFDK3OQp9SEO"
      },
      "source": [
        "## Importacion de Librerias\n",
        "\n",
        "Se importan las librerias para la lectura de archivos y el analisis de datos."
      ]
    },
    {
      "cell_type": "code",
      "metadata": {
        "id": "Hub4RVMg9GDe"
      },
      "source": [
        "import pandas as pd\n",
        "from collections import Counter\n",
        "import matplotlib.pyplot as plt"
      ],
      "execution_count": 50,
      "outputs": []
    },
    {
      "cell_type": "markdown",
      "metadata": {
        "id": "NENouSXE-ctk"
      },
      "source": [
        "## Lectura de archivos\n",
        "\n",
        "Se cargan los archivos csv con datos preprocesados."
      ]
    },
    {
      "cell_type": "code",
      "metadata": {
        "id": "CDSrFo7a9gqz"
      },
      "source": [
        "clean_tweets = pd.read_csv(\"clean_twdt.csv\")\n",
        "clean_trafico = pd.read_csv(\"clean_trafico.csv\")\n",
        "clean_transito = pd.read_csv(\"clean_transito.csv\")"
      ],
      "execution_count": 51,
      "outputs": []
    },
    {
      "cell_type": "markdown",
      "metadata": {
        "id": "tcOkTMjPHrps"
      },
      "source": [
        "## Funciones para el analisis\n",
        "\n",
        "Funciones para obtener los n items mas frecuentes.\n",
        "\n"
      ]
    },
    {
      "cell_type": "code",
      "metadata": {
        "id": "XodzPXvrHu_k"
      },
      "source": [
        "def get_dataset_frequency(dataset,column_name,separator):\n",
        "  dataset[column_name] = dataset[column_name].astype(str)\n",
        "\n",
        "  categories = [line.split(separator) for line in dataset[column_name]]\n",
        "\n",
        "  categories = [y for x in categories for y in x]\n",
        "\n",
        "  freq = dict(Counter(categories))\n",
        "\n",
        "  sorted_freq = sorted(freq.items(), key=lambda x:x[1])\n",
        "\n",
        "  return sorted_freq"
      ],
      "execution_count": 52,
      "outputs": []
    },
    {
      "cell_type": "code",
      "metadata": {
        "id": "a5YIclUiIPhp"
      },
      "source": [
        "def show_dataset_frequency(dataset,column_name,separator,limit=10):\n",
        "  dataset[column_name] = dataset[column_name].astype(str)\n",
        "\n",
        "  categories = [line.split(separator) for line in dataset[column_name]]\n",
        "\n",
        "  categories = [y for x in categories for y in x]\n",
        "\n",
        "  freq = dict(Counter(categories))\n",
        "\n",
        "  sorted_freq = sorted(freq.items(), key=lambda x:x[1])\n",
        "\n",
        "  for x in range(1,limit+1):\n",
        "    item = sorted_freq[len(sorted_freq)-x]\n",
        "    print(str(x) + \". \" + item[0] + \" => \" + str(item[1]))"
      ],
      "execution_count": 53,
      "outputs": []
    },
    {
      "cell_type": "code",
      "metadata": {
        "id": "qK5uEbh5O50i"
      },
      "source": [
        "def get_hour_frequencies(dataset,column_name):\n",
        "  date_info = dataset[column_name]\n",
        "\n",
        "  times = []\n",
        "  for date in date_info:\n",
        "    date = date.split(\" \")[3].split(\":\")[0]\n",
        "    times.append(date)\n",
        "\n",
        "  freq = dict(Counter(times))\n",
        "  sorted_freq = sorted(freq.items(), key=lambda x:x[1])\n",
        "\n",
        "  return sorted_freq"
      ],
      "execution_count": 72,
      "outputs": []
    },
    {
      "cell_type": "markdown",
      "metadata": {
        "id": "sNi5CQoXETPg"
      },
      "source": [
        "## Analisis Hashtag TraficoGT\n",
        "\n",
        "Se obtienen las columnas importantes del dataframe que tiene los datos para el hashtag Trafico. En este caso, las columnas son:\n",
        "- Text: Tienen la informacion del tweet\n",
        "- Screen Name: Nombre del usuario que posteo o hizo retweet al post\n",
        "- Created At: Informacion de la fecha y hora del tweet\n",
        "- Favorites: Cuantas personas guardaron este tweet como favorito\n",
        "- Retweets: Cuantas personas compartieron este tweet a otras personas\n",
        "- Tweet Type: Si este tweet fue posteado por la persona o solamente lo compartio"
      ]
    },
    {
      "cell_type": "code",
      "metadata": {
        "colab": {
          "base_uri": "https://localhost:8080/",
          "height": 971
        },
        "id": "HwkWdaXU9nMq",
        "outputId": "c6cd82a6-52dc-4cb7-959b-3a2304ed4638"
      },
      "source": [
        "trafico_ds = clean_trafico[['Screen Name','Text','Created At','Favorites','Retweets','Tweet Type']]\n",
        "# Validaciones a las columnas\n",
        "trafico_ds['Screen Name'] = trafico_ds['Screen Name'].astype(str)\n",
        "trafico_ds['Text'] = trafico_ds['Text'].astype(str)\n",
        "trafico_ds['Created At'] = trafico_ds['Created At'].astype(str)\n",
        "trafico_ds['Favorites'] = trafico_ds['Favorites'].astype(int)\n",
        "trafico_ds['Retweets'] = trafico_ds['Retweets'].astype(int)\n",
        "trafico_ds['Tweet Type'] = trafico_ds['Tweet Type'].astype(str)\n",
        "\n",
        "trafico_ds[:10]"
      ],
      "execution_count": 54,
      "outputs": [
        {
          "output_type": "stream",
          "name": "stderr",
          "text": [
            "/usr/local/lib/python3.7/dist-packages/ipykernel_launcher.py:3: SettingWithCopyWarning: \n",
            "A value is trying to be set on a copy of a slice from a DataFrame.\n",
            "Try using .loc[row_indexer,col_indexer] = value instead\n",
            "\n",
            "See the caveats in the documentation: https://pandas.pydata.org/pandas-docs/stable/user_guide/indexing.html#returning-a-view-versus-a-copy\n",
            "  This is separate from the ipykernel package so we can avoid doing imports until\n",
            "/usr/local/lib/python3.7/dist-packages/ipykernel_launcher.py:4: SettingWithCopyWarning: \n",
            "A value is trying to be set on a copy of a slice from a DataFrame.\n",
            "Try using .loc[row_indexer,col_indexer] = value instead\n",
            "\n",
            "See the caveats in the documentation: https://pandas.pydata.org/pandas-docs/stable/user_guide/indexing.html#returning-a-view-versus-a-copy\n",
            "  after removing the cwd from sys.path.\n",
            "/usr/local/lib/python3.7/dist-packages/ipykernel_launcher.py:5: SettingWithCopyWarning: \n",
            "A value is trying to be set on a copy of a slice from a DataFrame.\n",
            "Try using .loc[row_indexer,col_indexer] = value instead\n",
            "\n",
            "See the caveats in the documentation: https://pandas.pydata.org/pandas-docs/stable/user_guide/indexing.html#returning-a-view-versus-a-copy\n",
            "  \"\"\"\n",
            "/usr/local/lib/python3.7/dist-packages/ipykernel_launcher.py:6: SettingWithCopyWarning: \n",
            "A value is trying to be set on a copy of a slice from a DataFrame.\n",
            "Try using .loc[row_indexer,col_indexer] = value instead\n",
            "\n",
            "See the caveats in the documentation: https://pandas.pydata.org/pandas-docs/stable/user_guide/indexing.html#returning-a-view-versus-a-copy\n",
            "  \n",
            "/usr/local/lib/python3.7/dist-packages/ipykernel_launcher.py:7: SettingWithCopyWarning: \n",
            "A value is trying to be set on a copy of a slice from a DataFrame.\n",
            "Try using .loc[row_indexer,col_indexer] = value instead\n",
            "\n",
            "See the caveats in the documentation: https://pandas.pydata.org/pandas-docs/stable/user_guide/indexing.html#returning-a-view-versus-a-copy\n",
            "  import sys\n",
            "/usr/local/lib/python3.7/dist-packages/ipykernel_launcher.py:8: SettingWithCopyWarning: \n",
            "A value is trying to be set on a copy of a slice from a DataFrame.\n",
            "Try using .loc[row_indexer,col_indexer] = value instead\n",
            "\n",
            "See the caveats in the documentation: https://pandas.pydata.org/pandas-docs/stable/user_guide/indexing.html#returning-a-view-versus-a-copy\n",
            "  \n"
          ]
        },
        {
          "output_type": "execute_result",
          "data": {
            "text/html": [
              "<div>\n",
              "<style scoped>\n",
              "    .dataframe tbody tr th:only-of-type {\n",
              "        vertical-align: middle;\n",
              "    }\n",
              "\n",
              "    .dataframe tbody tr th {\n",
              "        vertical-align: top;\n",
              "    }\n",
              "\n",
              "    .dataframe thead th {\n",
              "        text-align: right;\n",
              "    }\n",
              "</style>\n",
              "<table border=\"1\" class=\"dataframe\">\n",
              "  <thead>\n",
              "    <tr style=\"text-align: right;\">\n",
              "      <th></th>\n",
              "      <th>Screen Name</th>\n",
              "      <th>Text</th>\n",
              "      <th>Created At</th>\n",
              "      <th>Favorites</th>\n",
              "      <th>Retweets</th>\n",
              "      <th>Tweet Type</th>\n",
              "    </tr>\n",
              "  </thead>\n",
              "  <tbody>\n",
              "    <tr>\n",
              "      <th>0</th>\n",
              "      <td>edu_vf66</td>\n",
              "      <td>rt niachapina ojo vean fraguando congreso pila...</td>\n",
              "      <td>Tue Sep 07 00:19:50 +0000 2021</td>\n",
              "      <td>0</td>\n",
              "      <td>0</td>\n",
              "      <td>Retweet</td>\n",
              "    </tr>\n",
              "    <tr>\n",
              "      <th>1</th>\n",
              "      <td>Celso_Gordillo</td>\n",
              "      <td>rt niachapina ojo vean fraguando congreso pila...</td>\n",
              "      <td>Mon Sep 06 23:40:46 +0000 2021</td>\n",
              "      <td>0</td>\n",
              "      <td>0</td>\n",
              "      <td>Retweet</td>\n",
              "    </tr>\n",
              "    <tr>\n",
              "      <th>2</th>\n",
              "      <td>MiguelOswaldo2</td>\n",
              "      <td>rt niachapina ojo vean fraguando congreso pila...</td>\n",
              "      <td>Mon Sep 06 23:36:15 +0000 2021</td>\n",
              "      <td>0</td>\n",
              "      <td>0</td>\n",
              "      <td>Retweet</td>\n",
              "    </tr>\n",
              "    <tr>\n",
              "      <th>3</th>\n",
              "      <td>SBHernandezZ</td>\n",
              "      <td>rt niachapina ojo vean fraguando congreso pila...</td>\n",
              "      <td>Mon Sep 06 23:21:47 +0000 2021</td>\n",
              "      <td>0</td>\n",
              "      <td>0</td>\n",
              "      <td>Retweet</td>\n",
              "    </tr>\n",
              "    <tr>\n",
              "      <th>4</th>\n",
              "      <td>transdocnoticia</td>\n",
              "      <td>traficogt ingreso bulevar sur san cristóbal km...</td>\n",
              "      <td>Mon Sep 06 22:57:43 +0000 2021</td>\n",
              "      <td>0</td>\n",
              "      <td>0</td>\n",
              "      <td>Tweet</td>\n",
              "    </tr>\n",
              "    <tr>\n",
              "      <th>5</th>\n",
              "      <td>MovilidadNews</td>\n",
              "      <td>cada vez tráfico obliga personas viven municip...</td>\n",
              "      <td>Mon Sep 06 22:21:51 +0000 2021</td>\n",
              "      <td>0</td>\n",
              "      <td>0</td>\n",
              "      <td>Tweet</td>\n",
              "    </tr>\n",
              "    <tr>\n",
              "      <th>6</th>\n",
              "      <td>TransmetroGuate</td>\n",
              "      <td>actualización línea habilita recorrido normal ...</td>\n",
              "      <td>Mon Sep 06 22:13:51 +0000 2021</td>\n",
              "      <td>1</td>\n",
              "      <td>0</td>\n",
              "      <td>Reply</td>\n",
              "    </tr>\n",
              "    <tr>\n",
              "      <th>7</th>\n",
              "      <td>JoshuaGnXN</td>\n",
              "      <td>rt niachapina ojo vean fraguando congreso pila...</td>\n",
              "      <td>Mon Sep 06 22:10:20 +0000 2021</td>\n",
              "      <td>0</td>\n",
              "      <td>0</td>\n",
              "      <td>Retweet</td>\n",
              "    </tr>\n",
              "    <tr>\n",
              "      <th>8</th>\n",
              "      <td>transdocnoticia</td>\n",
              "      <td>guatemala traficogt eegsa suspenderá servicio ...</td>\n",
              "      <td>Mon Sep 06 21:54:56 +0000 2021</td>\n",
              "      <td>1</td>\n",
              "      <td>0</td>\n",
              "      <td>Tweet</td>\n",
              "    </tr>\n",
              "    <tr>\n",
              "      <th>9</th>\n",
              "      <td>BYRONVILLAGRAN</td>\n",
              "      <td>rt niachapina ojo vean fraguando congreso pila...</td>\n",
              "      <td>Mon Sep 06 21:04:18 +0000 2021</td>\n",
              "      <td>0</td>\n",
              "      <td>0</td>\n",
              "      <td>Retweet</td>\n",
              "    </tr>\n",
              "  </tbody>\n",
              "</table>\n",
              "</div>"
            ],
            "text/plain": [
              "       Screen Name  ... Tweet Type\n",
              "0         edu_vf66  ...    Retweet\n",
              "1   Celso_Gordillo  ...    Retweet\n",
              "2   MiguelOswaldo2  ...    Retweet\n",
              "3     SBHernandezZ  ...    Retweet\n",
              "4  transdocnoticia  ...      Tweet\n",
              "5    MovilidadNews  ...      Tweet\n",
              "6  TransmetroGuate  ...      Reply\n",
              "7       JoshuaGnXN  ...    Retweet\n",
              "8  transdocnoticia  ...      Tweet\n",
              "9   BYRONVILLAGRAN  ...    Retweet\n",
              "\n",
              "[10 rows x 6 columns]"
            ]
          },
          "metadata": {},
          "execution_count": 54
        }
      ]
    },
    {
      "cell_type": "markdown",
      "metadata": {
        "id": "MYkzqVpOIG_Q"
      },
      "source": [
        "**Obtención de los 10 usuarios mas frecuentes en el dataset**"
      ]
    },
    {
      "cell_type": "code",
      "metadata": {
        "colab": {
          "base_uri": "https://localhost:8080/",
          "height": 710
        },
        "id": "VkO-N1ATIAs0",
        "outputId": "f7f794e0-dc12-4078-9a42-d2501515b3d9"
      },
      "source": [
        "top_trafico_users = get_dataset_frequency(trafico_ds,'Screen Name','\\t')\n",
        "top_trafico_users = top_trafico_users[len(top_trafico_users)-5:]\n",
        "\n",
        "labels = [x[0] for x in top_trafico_users]\n",
        "frequencies = [x[1] for x in top_trafico_users]\n",
        "\n",
        "plt.figure(figsize=(10,10))\n",
        "plt.bar(labels,frequencies,color=(0.4,0.4,1.0))\n",
        "plt.title(\"Top 5 usuarios más frecuentes en #TraficoGT\")\n",
        "plt.show()"
      ],
      "execution_count": 60,
      "outputs": [
        {
          "output_type": "stream",
          "name": "stderr",
          "text": [
            "/usr/local/lib/python3.7/dist-packages/ipykernel_launcher.py:2: SettingWithCopyWarning: \n",
            "A value is trying to be set on a copy of a slice from a DataFrame.\n",
            "Try using .loc[row_indexer,col_indexer] = value instead\n",
            "\n",
            "See the caveats in the documentation: https://pandas.pydata.org/pandas-docs/stable/user_guide/indexing.html#returning-a-view-versus-a-copy\n",
            "  \n"
          ]
        },
        {
          "output_type": "display_data",
          "data": {
            "image/png": "[encoded data removed]",
            "text/plain": [
              "<Figure size 720x720 with 1 Axes>"
            ]
          },
          "metadata": {
            "needs_background": "light"
          }
        }
      ]
    },
    {
      "cell_type": "markdown",
      "metadata": {
        "id": "Hhshk81kKnSB"
      },
      "source": [
        "En este caso, los cinco usuarios más frecuentes con el hashtag TraficoGT. Estos cinco canales (vivaln_gtv, AlertaGt502, MovilidadNews, amilcarmontrejo, transdocnoticia) se especializan en dar noticias acerca del tráfico y accidentes en el país, lo que podría indicar que la cantidad de accidentes no ha disminuidio mucho a pesar de estar en tiempos de pandemia.\n",
        "\n",
        "**Obtención de las diez palabras más repetidas en los tweets**"
      ]
    },
    {
      "cell_type": "code",
      "metadata": {
        "colab": {
          "base_uri": "https://localhost:8080/"
        },
        "id": "wdzGk7bVLXx6",
        "outputId": "424de2db-10cb-40a6-e8df-337c6fe1b0ba"
      },
      "source": [
        "show_dataset_frequency(trafico_ds,'Text',' ',10)"
      ],
      "execution_count": 56,
      "outputs": [
        {
          "output_type": "stream",
          "name": "stdout",
          "text": [
            "1. traficogt => 425\n",
            "2. rt => 324\n",
            "3. zona => 207\n",
            "4. transitogt => 191\n",
            "5. amilcarmontejo => 149\n",
            "6. ciudad => 132\n",
            "7. tráficogt => 119\n",
            "8. guatemala => 106\n",
            "9. quetzal => 99\n",
            "10. agosto => 89\n"
          ]
        },
        {
          "output_type": "stream",
          "name": "stderr",
          "text": [
            "/usr/local/lib/python3.7/dist-packages/ipykernel_launcher.py:2: SettingWithCopyWarning: \n",
            "A value is trying to be set on a copy of a slice from a DataFrame.\n",
            "Try using .loc[row_indexer,col_indexer] = value instead\n",
            "\n",
            "See the caveats in the documentation: https://pandas.pydata.org/pandas-docs/stable/user_guide/indexing.html#returning-a-view-versus-a-copy\n",
            "  \n"
          ]
        }
      ]
    },
    {
      "cell_type": "markdown",
      "metadata": {
        "id": "pWLfM0p1MM1-"
      },
      "source": [
        "En este caso, las palabras más frecuentes son el hashtag y palabras que tienen que ver con ubicaciones, como es el caso de \"ciudad\", \"guatemala\" y \"zona\". Esto nuevamente da un indicio de que los accidentes o el tráfico no ha dismninuido.\n",
        "\n",
        "**Obtención de 5 horas más frecuentes**"
      ]
    },
    {
      "cell_type": "code",
      "metadata": {
        "colab": {
          "base_uri": "https://localhost:8080/",
          "height": 607
        },
        "id": "pMeh_h4KPdqa",
        "outputId": "9122dc2d-4f57-4480-aeec-eb9803fc451f"
      },
      "source": [
        "trafico_dates = get_hour_frequencies(trafico_ds,'Created At')\n",
        "trafico_dates = trafico_dates[len(trafico_dates)-5:]\n",
        "\n",
        "labels = [x[0] for x in trafico_dates]\n",
        "frequencies = [x[1] for x in trafico_dates]\n",
        "\n",
        "plt.figure(figsize=(10,10))\n",
        "plt.bar(labels,frequencies,color=(0.2,0.8,0.8))\n",
        "plt.title(\"Top 5 horas más frecuentes en #TraficoGT\")\n",
        "plt.show()"
      ],
      "execution_count": 76,
      "outputs": [
        {
          "output_type": "display_data",
          "data": {
            "image/png": "[encoded data removed]",
            "text/plain": [
              "<Figure size 720x720 with 1 Axes>"
            ]
          },
          "metadata": {
            "needs_background": "light"
          }
        }
      ]
    },
    {
      "cell_type": "markdown",
      "metadata": {
        "id": "v3qTR7KlQTSR"
      },
      "source": [
        "Las 5 horas mas frecuentes en donde se utiliza el hashtag TraficoGT son:\n",
        "- 7 pm\n",
        "- 1 am\n",
        "- 2 pm\n",
        "- 8 pm\n",
        "- 9 pm\n",
        "En estas horas resaltan las 7 pm y 2 pm, ya que por lo general son horas de salida del trabajo y horas de almuerzo respectivamente para muchos guatemaltecos. Es posible que durante estos congestionamientos pueda ocurrir algun accidente.\n",
        "\n",
        "**Tipos de tweets**"
      ]
    },
    {
      "cell_type": "code",
      "metadata": {
        "colab": {
          "base_uri": "https://localhost:8080/",
          "height": 709
        },
        "id": "UXlKhHByRH9A",
        "outputId": "e098cf02-b1b4-4813-cb41-f770772edceb"
      },
      "source": [
        "top_trafico_types = get_dataset_frequency(trafico_ds,'Tweet Type','\\t')\n",
        "\n",
        "labels = [x[0] for x in top_trafico_types]\n",
        "frequencies = [x[1] for x in top_trafico_types]\n",
        "\n",
        "plt.figure(figsize=(10,10))\n",
        "plt.bar(labels,frequencies,color=(0.2,0.6,0.4))\n",
        "plt.title(\"Tipos de tweets\")\n",
        "plt.show()"
      ],
      "execution_count": 86,
      "outputs": [
        {
          "output_type": "stream",
          "name": "stderr",
          "text": [
            "/usr/local/lib/python3.7/dist-packages/ipykernel_launcher.py:2: SettingWithCopyWarning: \n",
            "A value is trying to be set on a copy of a slice from a DataFrame.\n",
            "Try using .loc[row_indexer,col_indexer] = value instead\n",
            "\n",
            "See the caveats in the documentation: https://pandas.pydata.org/pandas-docs/stable/user_guide/indexing.html#returning-a-view-versus-a-copy\n",
            "  \n"
          ]
        },
        {
          "output_type": "display_data",
          "data": {
            "image/png": "[encoded data removed]",
            "text/plain": [
              "<Figure size 720x720 with 1 Axes>"
            ]
          },
          "metadata": {
            "needs_background": "light"
          }
        }
      ]
    },
    {
      "cell_type": "markdown",
      "metadata": {
        "id": "EeX7eHVOR3Fi"
      },
      "source": [
        "El tipo de tweets mas frecuente es el de tipo retweets. Esto quiere decir que hay mas gente compartiendo estos tweets que posteando. Esto podria ser un indicio de que la gente comparte esta informacion a sus amigos y familiares para intentar evitar algun congestionamiento. La minoria de estos tweets fueron respuestas a algun otro tweet."
      ]
    },
    {
      "cell_type": "markdown",
      "metadata": {
        "id": "CkcHS0LbSRX3"
      },
      "source": [
        "## Analisis Conjunto TransitoGT\n",
        "\n",
        "En esta seccion se analiza el conjunto de tweets con hashtag TransitoGT. En este caso, al igual que con el dataset TraficoGT, las columnas son:\n",
        "- Text: Tienen la informacion del tweet\n",
        "- Screen Name: Nombre del usuario que posteo o hizo retweet al post\n",
        "- Created At: Informacion de la fecha y hora del tweet\n",
        "- Favorites: Cuantas personas guardaron este tweet como favorito\n",
        "- Retweets: Cuantas personas compartieron este tweet a otras personas\n",
        "- Tweet Type: Si este tweet fue posteado por la persona o solamente lo compartio"
      ]
    },
    {
      "cell_type": "code",
      "metadata": {
        "colab": {
          "base_uri": "https://localhost:8080/",
          "height": 971
        },
        "id": "5rz0lIrvS60w",
        "outputId": "be357fb4-0ee9-42fe-f431-d72cf31944fd"
      },
      "source": [
        "transito_ds = clean_transito[['Screen Name','Text','Created At','Favorites','Retweets','Tweet Type']]\n",
        "# Validaciones a las columnas\n",
        "transito_ds['Screen Name'] = transito_ds['Screen Name'].astype(str)\n",
        "transito_ds['Text'] = transito_ds['Text'].astype(str)\n",
        "transito_ds['Created At'] = transito_ds['Created At'].astype(str)\n",
        "transito_ds['Favorites'] = transito_ds['Favorites'].astype(int)\n",
        "transito_ds['Retweets'] = transito_ds['Retweets'].astype(int)\n",
        "transito_ds['Tweet Type'] = transito_ds['Tweet Type'].astype(str)\n",
        "\n",
        "transito_ds[:10]"
      ],
      "execution_count": 80,
      "outputs": [
        {
          "output_type": "stream",
          "name": "stderr",
          "text": [
            "/usr/local/lib/python3.7/dist-packages/ipykernel_launcher.py:3: SettingWithCopyWarning: \n",
            "A value is trying to be set on a copy of a slice from a DataFrame.\n",
            "Try using .loc[row_indexer,col_indexer] = value instead\n",
            "\n",
            "See the caveats in the documentation: https://pandas.pydata.org/pandas-docs/stable/user_guide/indexing.html#returning-a-view-versus-a-copy\n",
            "  This is separate from the ipykernel package so we can avoid doing imports until\n",
            "/usr/local/lib/python3.7/dist-packages/ipykernel_launcher.py:4: SettingWithCopyWarning: \n",
            "A value is trying to be set on a copy of a slice from a DataFrame.\n",
            "Try using .loc[row_indexer,col_indexer] = value instead\n",
            "\n",
            "See the caveats in the documentation: https://pandas.pydata.org/pandas-docs/stable/user_guide/indexing.html#returning-a-view-versus-a-copy\n",
            "  after removing the cwd from sys.path.\n",
            "/usr/local/lib/python3.7/dist-packages/ipykernel_launcher.py:5: SettingWithCopyWarning: \n",
            "A value is trying to be set on a copy of a slice from a DataFrame.\n",
            "Try using .loc[row_indexer,col_indexer] = value instead\n",
            "\n",
            "See the caveats in the documentation: https://pandas.pydata.org/pandas-docs/stable/user_guide/indexing.html#returning-a-view-versus-a-copy\n",
            "  \"\"\"\n",
            "/usr/local/lib/python3.7/dist-packages/ipykernel_launcher.py:6: SettingWithCopyWarning: \n",
            "A value is trying to be set on a copy of a slice from a DataFrame.\n",
            "Try using .loc[row_indexer,col_indexer] = value instead\n",
            "\n",
            "See the caveats in the documentation: https://pandas.pydata.org/pandas-docs/stable/user_guide/indexing.html#returning-a-view-versus-a-copy\n",
            "  \n",
            "/usr/local/lib/python3.7/dist-packages/ipykernel_launcher.py:7: SettingWithCopyWarning: \n",
            "A value is trying to be set on a copy of a slice from a DataFrame.\n",
            "Try using .loc[row_indexer,col_indexer] = value instead\n",
            "\n",
            "See the caveats in the documentation: https://pandas.pydata.org/pandas-docs/stable/user_guide/indexing.html#returning-a-view-versus-a-copy\n",
            "  import sys\n",
            "/usr/local/lib/python3.7/dist-packages/ipykernel_launcher.py:8: SettingWithCopyWarning: \n",
            "A value is trying to be set on a copy of a slice from a DataFrame.\n",
            "Try using .loc[row_indexer,col_indexer] = value instead\n",
            "\n",
            "See the caveats in the documentation: https://pandas.pydata.org/pandas-docs/stable/user_guide/indexing.html#returning-a-view-versus-a-copy\n",
            "  \n"
          ]
        },
        {
          "output_type": "execute_result",
          "data": {
            "text/html": [
              "<div>\n",
              "<style scoped>\n",
              "    .dataframe tbody tr th:only-of-type {\n",
              "        vertical-align: middle;\n",
              "    }\n",
              "\n",
              "    .dataframe tbody tr th {\n",
              "        vertical-align: top;\n",
              "    }\n",
              "\n",
              "    .dataframe thead th {\n",
              "        text-align: right;\n",
              "    }\n",
              "</style>\n",
              "<table border=\"1\" class=\"dataframe\">\n",
              "  <thead>\n",
              "    <tr style=\"text-align: right;\">\n",
              "      <th></th>\n",
              "      <th>Screen Name</th>\n",
              "      <th>Text</th>\n",
              "      <th>Created At</th>\n",
              "      <th>Favorites</th>\n",
              "      <th>Retweets</th>\n",
              "      <th>Tweet Type</th>\n",
              "    </tr>\n",
              "  </thead>\n",
              "  <tbody>\n",
              "    <tr>\n",
              "      <th>0</th>\n",
              "      <td>mompirris27</td>\n",
              "      <td>rt notiatlantico hechosgt accidente transitogt...</td>\n",
              "      <td>Mon Sep 06 20:32:16 +0000 2021</td>\n",
              "      <td>0</td>\n",
              "      <td>0</td>\n",
              "      <td>Retweet</td>\n",
              "    </tr>\n",
              "    <tr>\n",
              "      <th>1</th>\n",
              "      <td>Leosanchez1988</td>\n",
              "      <td>rt niachapina hoy pm atentos puede llevar cabo...</td>\n",
              "      <td>Mon Sep 06 19:37:32 +0000 2021</td>\n",
              "      <td>0</td>\n",
              "      <td>0</td>\n",
              "      <td>Retweet</td>\n",
              "    </tr>\n",
              "    <tr>\n",
              "      <th>2</th>\n",
              "      <td>KaryHuertas</td>\n",
              "      <td>rt notiatlantico hechosgt accidente transitogt...</td>\n",
              "      <td>Mon Sep 06 19:01:45 +0000 2021</td>\n",
              "      <td>0</td>\n",
              "      <td>0</td>\n",
              "      <td>Retweet</td>\n",
              "    </tr>\n",
              "    <tr>\n",
              "      <th>3</th>\n",
              "      <td>cesarde98629408</td>\n",
              "      <td>rt notiatlantico hechosgt accidente transitogt...</td>\n",
              "      <td>Mon Sep 06 18:13:38 +0000 2021</td>\n",
              "      <td>0</td>\n",
              "      <td>0</td>\n",
              "      <td>Retweet</td>\n",
              "    </tr>\n",
              "    <tr>\n",
              "      <th>4</th>\n",
              "      <td>Noti_Atlantico</td>\n",
              "      <td>hechosgt accidente transitogt carreteraalatlán...</td>\n",
              "      <td>Mon Sep 06 18:10:07 +0000 2021</td>\n",
              "      <td>18</td>\n",
              "      <td>4</td>\n",
              "      <td>Tweet</td>\n",
              "    </tr>\n",
              "    <tr>\n",
              "      <th>5</th>\n",
              "      <td>Luisa36956804</td>\n",
              "      <td>rt amilcarmontejo brinda apoyo vial bulevar ju...</td>\n",
              "      <td>Mon Sep 06 17:31:07 +0000 2021</td>\n",
              "      <td>0</td>\n",
              "      <td>0</td>\n",
              "      <td>Retweet</td>\n",
              "    </tr>\n",
              "    <tr>\n",
              "      <th>6</th>\n",
              "      <td>amilcarmontejo</td>\n",
              "      <td>brinda apoyo vial bulevar juan pablo ii calle ...</td>\n",
              "      <td>Mon Sep 06 17:21:21 +0000 2021</td>\n",
              "      <td>14</td>\n",
              "      <td>2</td>\n",
              "      <td>Tweet</td>\n",
              "    </tr>\n",
              "    <tr>\n",
              "      <th>7</th>\n",
              "      <td>MovilidadNews</td>\n",
              "      <td>rt amilcarmontejo grua desperfectos mecánicos ...</td>\n",
              "      <td>Mon Sep 06 17:19:20 +0000 2021</td>\n",
              "      <td>0</td>\n",
              "      <td>0</td>\n",
              "      <td>Retweet</td>\n",
              "    </tr>\n",
              "    <tr>\n",
              "      <th>8</th>\n",
              "      <td>amilcarmontejo</td>\n",
              "      <td>periférico calle zona camión fallas mecánicas ...</td>\n",
              "      <td>Mon Sep 06 17:17:31 +0000 2021</td>\n",
              "      <td>6</td>\n",
              "      <td>0</td>\n",
              "      <td>Tweet</td>\n",
              "    </tr>\n",
              "    <tr>\n",
              "      <th>9</th>\n",
              "      <td>amilcarmontejo</td>\n",
              "      <td>automóvil averiado retirándolo calle avenida z...</td>\n",
              "      <td>Mon Sep 06 17:14:33 +0000 2021</td>\n",
              "      <td>18</td>\n",
              "      <td>1</td>\n",
              "      <td>Tweet</td>\n",
              "    </tr>\n",
              "  </tbody>\n",
              "</table>\n",
              "</div>"
            ],
            "text/plain": [
              "       Screen Name  ... Tweet Type\n",
              "0      mompirris27  ...    Retweet\n",
              "1   Leosanchez1988  ...    Retweet\n",
              "2      KaryHuertas  ...    Retweet\n",
              "3  cesarde98629408  ...    Retweet\n",
              "4   Noti_Atlantico  ...      Tweet\n",
              "5    Luisa36956804  ...    Retweet\n",
              "6   amilcarmontejo  ...      Tweet\n",
              "7    MovilidadNews  ...    Retweet\n",
              "8   amilcarmontejo  ...      Tweet\n",
              "9   amilcarmontejo  ...      Tweet\n",
              "\n",
              "[10 rows x 6 columns]"
            ]
          },
          "metadata": {},
          "execution_count": 80
        }
      ]
    },
    {
      "cell_type": "markdown",
      "metadata": {
        "id": "LiFxbmkiTJXp"
      },
      "source": [
        "**10 palabras mas frecuentes en el dataset**"
      ]
    },
    {
      "cell_type": "code",
      "metadata": {
        "colab": {
          "base_uri": "https://localhost:8080/"
        },
        "id": "GHksIjE3TQ6R",
        "outputId": "9d4fe4a7-7bc9-4549-c30e-fa65018912d6"
      },
      "source": [
        "top_transito_words = show_dataset_frequency(transito_ds,'Text',' ',10)"
      ],
      "execution_count": 81,
      "outputs": [
        {
          "output_type": "stream",
          "name": "stdout",
          "text": [
            "1. rt => 346\n",
            "2. transitogt => 337\n",
            "3. traficogt => 186\n",
            "4. zona => 176\n",
            "5. amilcarmontejo => 143\n",
            "6. tránsitogt => 140\n",
            "7. guatemala => 109\n",
            "8. ciudad => 93\n",
            "9. quetzal => 90\n",
            "10. accidente => 89\n"
          ]
        },
        {
          "output_type": "stream",
          "name": "stderr",
          "text": [
            "/usr/local/lib/python3.7/dist-packages/ipykernel_launcher.py:2: SettingWithCopyWarning: \n",
            "A value is trying to be set on a copy of a slice from a DataFrame.\n",
            "Try using .loc[row_indexer,col_indexer] = value instead\n",
            "\n",
            "See the caveats in the documentation: https://pandas.pydata.org/pandas-docs/stable/user_guide/indexing.html#returning-a-view-versus-a-copy\n",
            "  \n"
          ]
        }
      ]
    },
    {
      "cell_type": "markdown",
      "metadata": {
        "id": "_EBiFIX0Tg2N"
      },
      "source": [
        "Muchas de las palabras que aparecen en tweets con este hashtag tambien aparecen en el conjunto de tweets con el hashtag TraficoGT. Sin embargo, en este conjunto de datos, la 10ma palabra mas repetida es la de \"accidente\". Esto indica que este hashtag se uso repetidas veces para reportar un accidente, lo que a su vez indica que el numero de accidentes no ha cesado. Esto sin embargo no nos indica si cada uno de los accidentes fue distinto o si algunos de ellos fueron para el mismo accidente.\n",
        "\n",
        "**Tipos de tweets**"
      ]
    },
    {
      "cell_type": "code",
      "metadata": {
        "colab": {
          "base_uri": "https://localhost:8080/",
          "height": 709
        },
        "id": "1LDjNhm3TgiN",
        "outputId": "2b698db8-943c-42cc-c9a9-822748d023c2"
      },
      "source": [
        "top_transito_types = get_dataset_frequency(transito_ds,'Tweet Type',' ')\n",
        "\n",
        "labels = [x[0] for x in top_transito_types]\n",
        "frequencies = [x[1] for x in top_transito_types]\n",
        "\n",
        "plt.figure(figsize=(10,10))\n",
        "plt.bar(labels,frequencies,color=(1.0,0.0,0.4))\n",
        "plt.title(\"Tipos de tweets\")\n",
        "plt.show()"
      ],
      "execution_count": 85,
      "outputs": [
        {
          "output_type": "stream",
          "name": "stderr",
          "text": [
            "/usr/local/lib/python3.7/dist-packages/ipykernel_launcher.py:2: SettingWithCopyWarning: \n",
            "A value is trying to be set on a copy of a slice from a DataFrame.\n",
            "Try using .loc[row_indexer,col_indexer] = value instead\n",
            "\n",
            "See the caveats in the documentation: https://pandas.pydata.org/pandas-docs/stable/user_guide/indexing.html#returning-a-view-versus-a-copy\n",
            "  \n"
          ]
        },
        {
          "output_type": "display_data",
          "data": {
            "image/png": "[encoded data removed]",
            "text/plain": [
              "<Figure size 720x720 with 1 Axes>"
            ]
          },
          "metadata": {
            "needs_background": "light"
          }
        }
      ]
    },
    {
      "cell_type": "markdown",
      "metadata": {
        "id": "NP6grO6XVJX6"
      },
      "source": [
        "En este conjunto de datos, se puede ver que la mayoria de tweets fueron de tipo retweet. Esto indica que probablemente la gente intento correr la voz. La minoria de estos tweets fueron posteados originalmente. Esto contrasta bastante con el conjunto de datos del conjunto anterior.\n",
        "\n",
        "**Horas mas frecuentes**"
      ]
    },
    {
      "cell_type": "code",
      "metadata": {
        "colab": {
          "base_uri": "https://localhost:8080/",
          "height": 607
        },
        "id": "g2tdCk39WDCK",
        "outputId": "0373b898-57c2-4142-8a03-34511cd7be40"
      },
      "source": [
        "transito_dates = get_hour_frequencies(transito_ds,'Created At')\n",
        "transito_dates = transito_dates[len(transito_dates)-5:]\n",
        "\n",
        "labels = [x[0] for x in transito_dates]\n",
        "frequencies = [x[1] for x in transito_dates]\n",
        "\n",
        "plt.figure(figsize=(10,10))\n",
        "plt.bar(labels,frequencies,color=(1.0,0.8,0.4))\n",
        "plt.title(\"Top 5 horas más frecuentes en #TransitoGT\")\n",
        "plt.show()"
      ],
      "execution_count": 88,
      "outputs": [
        {
          "output_type": "display_data",
          "data": {
            "image/png": "[encoded data removed]",
            "text/plain": [
              "<Figure size 720x720 with 1 Axes>"
            ]
          },
          "metadata": {
            "needs_background": "light"
          }
        }
      ]
    },
    {
      "cell_type": "markdown",
      "metadata": {
        "id": "x_pw6v5DWoVw"
      },
      "source": [
        "En este conjunto de tweets, las horas mas frecuentes fueron las 12pm (medio dia), las 3pm, 1pm, 12am (media noche) y 7pm. Estos datos indican lo siguiente:\n",
        "- Las 7pm coincide con el conjunto de tweets de Trafico GT, lo que podria indicar que alrededor de las 7 es cuando ocurren la mayor cantidad de accidentes. \n",
        "- La 1pm y 3pm son horas cercanas a las 2pm igualmenet del conjunto de tweets de TraficoGT lo que indica que alrededor de la hora de almuerzo es donde ocurren la mayor cantidad de accidentes."
      ]
    }
  ]
}