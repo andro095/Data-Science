{
 "cells": [
  {
   "cell_type": "markdown",
   "metadata": {
    "id": "XyTLeqB6NGSB"
   },
   "source": [
    "# Proyecto 2\n",
    "|      Nombre     | Carnet |\n",
    "|:---------------:|:------:|\n",
    "| André Rodríguez |  18332 |\n",
    "|   Cesar Rodas   |  16776 |\n",
    "|  Javier Ramirez |  18099 |\n",
    "|  Abril Palencia |  18198 |\n",
    "\n",
    "### Importación de librerías\n",
    "Se importan las librerías necesarias para el funcionamiento del laboratorio:"
   ]
  },
  {
   "cell_type": "code",
   "execution_count": 1,
   "metadata": {
    "colab": {
     "base_uri": "https://localhost:8080/"
    },
    "id": "wPwOJdAeMxqq",
    "outputId": "5cfc0d67-a270-4c87-bba8-08893d677f97"
   },
   "outputs": [
    {
     "name": "stderr",
     "output_type": "stream",
     "text": [
      "[nltk_data] Downloading package stopwords to C:\\Users\\Abril's\n",
      "[nltk_data]     PC\\AppData\\Roaming\\nltk_data...\n",
      "[nltk_data]   Package stopwords is already up-to-date!\n"
     ]
    }
   ],
   "source": [
    "import pandas as pd\n",
    "import numpy as np\n",
    "import nltk\n",
    "import re\n",
    "\n",
    "nltk.download('stopwords')\n",
    "\n",
    "from nltk.corpus import stopwords"
   ]
  },
  {
   "cell_type": "markdown",
   "metadata": {
    "id": "Hbj1IRTsNw2j"
   },
   "source": [
    "Se carga el dataset original desde el archivo train.csv"
   ]
  },
  {
   "cell_type": "code",
   "execution_count": 2,
   "metadata": {
    "colab": {
     "base_uri": "https://localhost:8080/",
     "height": 204
    },
    "id": "qkYkj2h8NQJb",
    "outputId": "6caefcbc-c8ca-4877-a905-9085c3d7d726"
   },
   "outputs": [
    {
     "data": {
      "text/html": [
       "<div>\n",
       "<style scoped>\n",
       "    .dataframe tbody tr th:only-of-type {\n",
       "        vertical-align: middle;\n",
       "    }\n",
       "\n",
       "    .dataframe tbody tr th {\n",
       "        vertical-align: top;\n",
       "    }\n",
       "\n",
       "    .dataframe thead th {\n",
       "        text-align: right;\n",
       "    }\n",
       "</style>\n",
       "<table border=\"1\" class=\"dataframe\">\n",
       "  <thead>\n",
       "    <tr style=\"text-align: right;\">\n",
       "      <th></th>\n",
       "      <th>id</th>\n",
       "      <th>keyword</th>\n",
       "      <th>location</th>\n",
       "      <th>text</th>\n",
       "      <th>target</th>\n",
       "    </tr>\n",
       "  </thead>\n",
       "  <tbody>\n",
       "    <tr>\n",
       "      <th>0</th>\n",
       "      <td>1</td>\n",
       "      <td>NaN</td>\n",
       "      <td>NaN</td>\n",
       "      <td>Our Deeds are the Reason of this #earthquake M...</td>\n",
       "      <td>1</td>\n",
       "    </tr>\n",
       "    <tr>\n",
       "      <th>1</th>\n",
       "      <td>4</td>\n",
       "      <td>NaN</td>\n",
       "      <td>NaN</td>\n",
       "      <td>Forest fire near La Ronge Sask. Canada</td>\n",
       "      <td>1</td>\n",
       "    </tr>\n",
       "    <tr>\n",
       "      <th>2</th>\n",
       "      <td>5</td>\n",
       "      <td>NaN</td>\n",
       "      <td>NaN</td>\n",
       "      <td>All residents asked to 'shelter in place' are ...</td>\n",
       "      <td>1</td>\n",
       "    </tr>\n",
       "    <tr>\n",
       "      <th>3</th>\n",
       "      <td>6</td>\n",
       "      <td>NaN</td>\n",
       "      <td>NaN</td>\n",
       "      <td>13,000 people receive #wildfires evacuation or...</td>\n",
       "      <td>1</td>\n",
       "    </tr>\n",
       "    <tr>\n",
       "      <th>4</th>\n",
       "      <td>7</td>\n",
       "      <td>NaN</td>\n",
       "      <td>NaN</td>\n",
       "      <td>Just got sent this photo from Ruby #Alaska as ...</td>\n",
       "      <td>1</td>\n",
       "    </tr>\n",
       "  </tbody>\n",
       "</table>\n",
       "</div>"
      ],
      "text/plain": [
       "   id keyword location                                               text  \\\n",
       "0   1     NaN      NaN  Our Deeds are the Reason of this #earthquake M...   \n",
       "1   4     NaN      NaN             Forest fire near La Ronge Sask. Canada   \n",
       "2   5     NaN      NaN  All residents asked to 'shelter in place' are ...   \n",
       "3   6     NaN      NaN  13,000 people receive #wildfires evacuation or...   \n",
       "4   7     NaN      NaN  Just got sent this photo from Ruby #Alaska as ...   \n",
       "\n",
       "   target  \n",
       "0       1  \n",
       "1       1  \n",
       "2       1  \n",
       "3       1  \n",
       "4       1  "
      ]
     },
     "execution_count": 2,
     "metadata": {},
     "output_type": "execute_result"
    }
   ],
   "source": [
    "dataset = pd.read_csv('train.csv')\n",
    "dataset[:5]"
   ]
  },
  {
   "cell_type": "markdown",
   "metadata": {
    "id": "OOR3OsiXOPSu"
   },
   "source": [
    "Se muestra el tamaño del dataset original."
   ]
  },
  {
   "cell_type": "code",
   "execution_count": 3,
   "metadata": {
    "colab": {
     "base_uri": "https://localhost:8080/"
    },
    "id": "1L2_6K_jN0wf",
    "outputId": "9c342348-ba40-4121-c2c5-c6a94bcec945"
   },
   "outputs": [
    {
     "name": "stdout",
     "output_type": "stream",
     "text": [
      "Columnas: 5\n",
      "Filas: 7613\n"
     ]
    }
   ],
   "source": [
    "print(\"Columnas: \" + str(dataset.shape[1]))\n",
    "print(\"Filas: \" + str(dataset.shape[0]))"
   ]
  },
  {
   "cell_type": "markdown",
   "metadata": {
    "id": "_6Ln0DAXb_kx"
   },
   "source": [
    "Se muestra el tipo de columnas en el dataset original."
   ]
  },
  {
   "cell_type": "code",
   "execution_count": 4,
   "metadata": {
    "colab": {
     "base_uri": "https://localhost:8080/",
     "height": 119
    },
    "id": "T4CTUd84b-hh",
    "outputId": "7a389a75-9bb0-4ba7-9a1f-e5fc77332223"
   },
   "outputs": [
    {
     "data": {
      "text/plain": [
       "id           int64\n",
       "keyword     object\n",
       "location    object\n",
       "text        object\n",
       "target       int64\n",
       "dtype: object"
      ]
     },
     "metadata": {},
     "output_type": "display_data"
    }
   ],
   "source": [
    "display(dataset.dtypes)"
   ]
  },
  {
   "cell_type": "markdown",
   "metadata": {
    "id": "z5W4R5gybNc3"
   },
   "source": [
    " - Se elimina la columna de id para el texto original, ya que esta no servirá para el análisis\n",
    " - Se convierten las columnas de keyword, location y text a tipo 'string' en caso que surga algún error\n",
    " - Se cambian los valores NaN por la palabra \"None\" en las columnas keyword y location para evitar problemas en el futuro"
   ]
  },
  {
   "cell_type": "code",
   "execution_count": 5,
   "metadata": {
    "colab": {
     "base_uri": "https://localhost:8080/",
     "height": 514
    },
    "id": "a98qkNwobMRZ",
    "outputId": "ee136a37-bd8c-4359-89ed-5027fecd6d86"
   },
   "outputs": [
    {
     "data": {
      "text/html": [
       "<div>\n",
       "<style scoped>\n",
       "    .dataframe tbody tr th:only-of-type {\n",
       "        vertical-align: middle;\n",
       "    }\n",
       "\n",
       "    .dataframe tbody tr th {\n",
       "        vertical-align: top;\n",
       "    }\n",
       "\n",
       "    .dataframe thead th {\n",
       "        text-align: right;\n",
       "    }\n",
       "</style>\n",
       "<table border=\"1\" class=\"dataframe\">\n",
       "  <thead>\n",
       "    <tr style=\"text-align: right;\">\n",
       "      <th></th>\n",
       "      <th>keyword</th>\n",
       "      <th>location</th>\n",
       "      <th>text</th>\n",
       "      <th>target</th>\n",
       "    </tr>\n",
       "  </thead>\n",
       "  <tbody>\n",
       "    <tr>\n",
       "      <th>0</th>\n",
       "      <td>None</td>\n",
       "      <td>None</td>\n",
       "      <td>Our Deeds are the Reason of this #earthquake M...</td>\n",
       "      <td>1</td>\n",
       "    </tr>\n",
       "    <tr>\n",
       "      <th>1</th>\n",
       "      <td>None</td>\n",
       "      <td>None</td>\n",
       "      <td>Forest fire near La Ronge Sask. Canada</td>\n",
       "      <td>1</td>\n",
       "    </tr>\n",
       "    <tr>\n",
       "      <th>2</th>\n",
       "      <td>None</td>\n",
       "      <td>None</td>\n",
       "      <td>All residents asked to 'shelter in place' are ...</td>\n",
       "      <td>1</td>\n",
       "    </tr>\n",
       "    <tr>\n",
       "      <th>3</th>\n",
       "      <td>None</td>\n",
       "      <td>None</td>\n",
       "      <td>13,000 people receive #wildfires evacuation or...</td>\n",
       "      <td>1</td>\n",
       "    </tr>\n",
       "    <tr>\n",
       "      <th>4</th>\n",
       "      <td>None</td>\n",
       "      <td>None</td>\n",
       "      <td>Just got sent this photo from Ruby #Alaska as ...</td>\n",
       "      <td>1</td>\n",
       "    </tr>\n",
       "    <tr>\n",
       "      <th>5</th>\n",
       "      <td>None</td>\n",
       "      <td>None</td>\n",
       "      <td>#RockyFire Update =&gt; California Hwy. 20 closed...</td>\n",
       "      <td>1</td>\n",
       "    </tr>\n",
       "    <tr>\n",
       "      <th>6</th>\n",
       "      <td>None</td>\n",
       "      <td>None</td>\n",
       "      <td>#flood #disaster Heavy rain causes flash flood...</td>\n",
       "      <td>1</td>\n",
       "    </tr>\n",
       "    <tr>\n",
       "      <th>7</th>\n",
       "      <td>None</td>\n",
       "      <td>None</td>\n",
       "      <td>I'm on top of the hill and I can see a fire in...</td>\n",
       "      <td>1</td>\n",
       "    </tr>\n",
       "    <tr>\n",
       "      <th>8</th>\n",
       "      <td>None</td>\n",
       "      <td>None</td>\n",
       "      <td>There's an emergency evacuation happening now ...</td>\n",
       "      <td>1</td>\n",
       "    </tr>\n",
       "    <tr>\n",
       "      <th>9</th>\n",
       "      <td>None</td>\n",
       "      <td>None</td>\n",
       "      <td>I'm afraid that the tornado is coming to our a...</td>\n",
       "      <td>1</td>\n",
       "    </tr>\n",
       "    <tr>\n",
       "      <th>10</th>\n",
       "      <td>None</td>\n",
       "      <td>None</td>\n",
       "      <td>Three people died from the heat wave so far</td>\n",
       "      <td>1</td>\n",
       "    </tr>\n",
       "    <tr>\n",
       "      <th>11</th>\n",
       "      <td>None</td>\n",
       "      <td>None</td>\n",
       "      <td>Haha South Tampa is getting flooded hah- WAIT ...</td>\n",
       "      <td>1</td>\n",
       "    </tr>\n",
       "    <tr>\n",
       "      <th>12</th>\n",
       "      <td>None</td>\n",
       "      <td>None</td>\n",
       "      <td>#raining #flooding #Florida #TampaBay #Tampa 1...</td>\n",
       "      <td>1</td>\n",
       "    </tr>\n",
       "    <tr>\n",
       "      <th>13</th>\n",
       "      <td>None</td>\n",
       "      <td>None</td>\n",
       "      <td>#Flood in Bago Myanmar #We arrived Bago</td>\n",
       "      <td>1</td>\n",
       "    </tr>\n",
       "    <tr>\n",
       "      <th>14</th>\n",
       "      <td>None</td>\n",
       "      <td>None</td>\n",
       "      <td>Damage to school bus on 80 in multi car crash ...</td>\n",
       "      <td>1</td>\n",
       "    </tr>\n",
       "  </tbody>\n",
       "</table>\n",
       "</div>"
      ],
      "text/plain": [
       "   keyword location                                               text  target\n",
       "0     None     None  Our Deeds are the Reason of this #earthquake M...       1\n",
       "1     None     None             Forest fire near La Ronge Sask. Canada       1\n",
       "2     None     None  All residents asked to 'shelter in place' are ...       1\n",
       "3     None     None  13,000 people receive #wildfires evacuation or...       1\n",
       "4     None     None  Just got sent this photo from Ruby #Alaska as ...       1\n",
       "5     None     None  #RockyFire Update => California Hwy. 20 closed...       1\n",
       "6     None     None  #flood #disaster Heavy rain causes flash flood...       1\n",
       "7     None     None  I'm on top of the hill and I can see a fire in...       1\n",
       "8     None     None  There's an emergency evacuation happening now ...       1\n",
       "9     None     None  I'm afraid that the tornado is coming to our a...       1\n",
       "10    None     None        Three people died from the heat wave so far       1\n",
       "11    None     None  Haha South Tampa is getting flooded hah- WAIT ...       1\n",
       "12    None     None  #raining #flooding #Florida #TampaBay #Tampa 1...       1\n",
       "13    None     None            #Flood in Bago Myanmar #We arrived Bago       1\n",
       "14    None     None  Damage to school bus on 80 in multi car crash ...       1"
      ]
     },
     "execution_count": 5,
     "metadata": {},
     "output_type": "execute_result"
    }
   ],
   "source": [
    "if 'id' in dataset.columns: del dataset['id']\n",
    "\n",
    "dataset['keyword'].fillna('None',inplace=True)\n",
    "dataset['location'].fillna('None',inplace=True)\n",
    "dataset['text'].fillna('None',inplace=True)\n",
    "\n",
    "dataset['keyword'] = dataset['keyword'].astype(str)\n",
    "dataset['location'] = dataset['location'].astype(str)\n",
    "dataset['text'] = dataset['text'].astype(str)\n",
    "\n",
    "dataset[:15]"
   ]
  },
  {
   "cell_type": "markdown",
   "metadata": {
    "id": "MdkFJHZmgtsw"
   },
   "source": [
    "Se muestran nuevamente las columnas del dataset luego del procesamiento."
   ]
  },
  {
   "cell_type": "code",
   "execution_count": 6,
   "metadata": {
    "colab": {
     "base_uri": "https://localhost:8080/",
     "height": 102
    },
    "id": "wlxoJDd4gR3Y",
    "outputId": "80ad9d1a-2d13-4ef2-e6b3-f1d93085ece1"
   },
   "outputs": [
    {
     "data": {
      "text/plain": [
       "keyword     object\n",
       "location    object\n",
       "text        object\n",
       "target       int64\n",
       "dtype: object"
      ]
     },
     "metadata": {},
     "output_type": "display_data"
    }
   ],
   "source": [
    "display(dataset.dtypes)"
   ]
  },
  {
   "cell_type": "markdown",
   "metadata": {
    "id": "V9KdKyq1hoVW"
   },
   "source": [
    "Eliminación de stopwords en la columna de text. Para ello, se convierten todas las palabras en la oracion a minuscula y luego se elimnan las stopwords."
   ]
  },
  {
   "cell_type": "code",
   "execution_count": 7,
   "metadata": {
    "id": "mPzNdGFWhdXt"
   },
   "outputs": [],
   "source": [
    "# funcion para limpiar archivos\n",
    "def clean_txt(str):\n",
    "    return_text = ''\n",
    "    # removiendo links\n",
    "    text = re.sub(r'^https?:\\/\\/.*[\\r\\n]*', '', str)\n",
    "\n",
    "    # remover caracteres\n",
    "    for i, caracter in enumerate(text):\n",
    "        # convierte a minusculas\n",
    "        caracter = caracter.lower()\n",
    "        try:\n",
    "          # remueve cualquier caracter que no sea una letra minuscula o espacio, incluyendo numeros\n",
    "          if ord(caracter) != 32 and (ord(caracter) < 97 or ord(caracter) > 122) :\n",
    "              return_text = return_text + ''\n",
    "          else:\n",
    "              return_text = return_text + caracter\n",
    "        except: \n",
    "            return_text = return_text + ''\n",
    "\n",
    "    \n",
    "    return return_text.strip()"
   ]
  },
  {
   "cell_type": "code",
   "execution_count": 8,
   "metadata": {
    "id": "CSZxhiH3htQL"
   },
   "outputs": [],
   "source": [
    "# funcion para remover stepwords\n",
    "def remove_stepwords(str):\n",
    "    word_tokens = str.split()\n",
    "    clean_str = ''\n",
    "\n",
    "    for word in word_tokens:\n",
    "        if word not in stopwords_list:\n",
    "            if clean_str == '':\n",
    "              clean_str += word\n",
    "            else:\n",
    "              clean_str += ' ' + word\n",
    "    \n",
    "    return clean_str"
   ]
  },
  {
   "cell_type": "code",
   "execution_count": 9,
   "metadata": {
    "colab": {
     "base_uri": "https://localhost:8080/",
     "height": 514
    },
    "id": "AMk7SvjyhxIv",
    "outputId": "0fe26cb2-148e-4fcd-beb3-f9ac0a0910e8"
   },
   "outputs": [
    {
     "data": {
      "text/html": [
       "<div>\n",
       "<style scoped>\n",
       "    .dataframe tbody tr th:only-of-type {\n",
       "        vertical-align: middle;\n",
       "    }\n",
       "\n",
       "    .dataframe tbody tr th {\n",
       "        vertical-align: top;\n",
       "    }\n",
       "\n",
       "    .dataframe thead th {\n",
       "        text-align: right;\n",
       "    }\n",
       "</style>\n",
       "<table border=\"1\" class=\"dataframe\">\n",
       "  <thead>\n",
       "    <tr style=\"text-align: right;\">\n",
       "      <th></th>\n",
       "      <th>keyword</th>\n",
       "      <th>location</th>\n",
       "      <th>text</th>\n",
       "      <th>target</th>\n",
       "    </tr>\n",
       "  </thead>\n",
       "  <tbody>\n",
       "    <tr>\n",
       "      <th>0</th>\n",
       "      <td>None</td>\n",
       "      <td>None</td>\n",
       "      <td>deeds reason earthquake may allah forgive us</td>\n",
       "      <td>1</td>\n",
       "    </tr>\n",
       "    <tr>\n",
       "      <th>1</th>\n",
       "      <td>None</td>\n",
       "      <td>None</td>\n",
       "      <td>forest fire near ronge sask canada</td>\n",
       "      <td>1</td>\n",
       "    </tr>\n",
       "    <tr>\n",
       "      <th>2</th>\n",
       "      <td>None</td>\n",
       "      <td>None</td>\n",
       "      <td>residents asked shelter place notified officer...</td>\n",
       "      <td>1</td>\n",
       "    </tr>\n",
       "    <tr>\n",
       "      <th>3</th>\n",
       "      <td>None</td>\n",
       "      <td>None</td>\n",
       "      <td>people receive wildfires evacuation orders cal...</td>\n",
       "      <td>1</td>\n",
       "    </tr>\n",
       "    <tr>\n",
       "      <th>4</th>\n",
       "      <td>None</td>\n",
       "      <td>None</td>\n",
       "      <td>got sent photo ruby alaska smoke wildfires pou...</td>\n",
       "      <td>1</td>\n",
       "    </tr>\n",
       "    <tr>\n",
       "      <th>5</th>\n",
       "      <td>None</td>\n",
       "      <td>None</td>\n",
       "      <td>rockyfire update california hwy closed directi...</td>\n",
       "      <td>1</td>\n",
       "    </tr>\n",
       "    <tr>\n",
       "      <th>6</th>\n",
       "      <td>None</td>\n",
       "      <td>None</td>\n",
       "      <td>flood disaster heavy rain causes flash floodin...</td>\n",
       "      <td>1</td>\n",
       "    </tr>\n",
       "    <tr>\n",
       "      <th>7</th>\n",
       "      <td>None</td>\n",
       "      <td>None</td>\n",
       "      <td>top hill see fire woods</td>\n",
       "      <td>1</td>\n",
       "    </tr>\n",
       "    <tr>\n",
       "      <th>8</th>\n",
       "      <td>None</td>\n",
       "      <td>None</td>\n",
       "      <td>theres emergency evacuation happening building...</td>\n",
       "      <td>1</td>\n",
       "    </tr>\n",
       "    <tr>\n",
       "      <th>9</th>\n",
       "      <td>None</td>\n",
       "      <td>None</td>\n",
       "      <td>afraid tornado coming area</td>\n",
       "      <td>1</td>\n",
       "    </tr>\n",
       "    <tr>\n",
       "      <th>10</th>\n",
       "      <td>None</td>\n",
       "      <td>None</td>\n",
       "      <td>three people died heat wave far</td>\n",
       "      <td>1</td>\n",
       "    </tr>\n",
       "    <tr>\n",
       "      <th>11</th>\n",
       "      <td>None</td>\n",
       "      <td>None</td>\n",
       "      <td>haha south tampa getting flooded hah wait seco...</td>\n",
       "      <td>1</td>\n",
       "    </tr>\n",
       "    <tr>\n",
       "      <th>12</th>\n",
       "      <td>None</td>\n",
       "      <td>None</td>\n",
       "      <td>raining flooding florida tampabay tampa days i...</td>\n",
       "      <td>1</td>\n",
       "    </tr>\n",
       "    <tr>\n",
       "      <th>13</th>\n",
       "      <td>None</td>\n",
       "      <td>None</td>\n",
       "      <td>flood bago myanmar arrived bago</td>\n",
       "      <td>1</td>\n",
       "    </tr>\n",
       "    <tr>\n",
       "      <th>14</th>\n",
       "      <td>None</td>\n",
       "      <td>None</td>\n",
       "      <td>damage school bus car crash breaking</td>\n",
       "      <td>1</td>\n",
       "    </tr>\n",
       "  </tbody>\n",
       "</table>\n",
       "</div>"
      ],
      "text/plain": [
       "   keyword location                                               text target\n",
       "0     None     None       deeds reason earthquake may allah forgive us      1\n",
       "1     None     None                 forest fire near ronge sask canada      1\n",
       "2     None     None  residents asked shelter place notified officer...      1\n",
       "3     None     None  people receive wildfires evacuation orders cal...      1\n",
       "4     None     None  got sent photo ruby alaska smoke wildfires pou...      1\n",
       "5     None     None  rockyfire update california hwy closed directi...      1\n",
       "6     None     None  flood disaster heavy rain causes flash floodin...      1\n",
       "7     None     None                            top hill see fire woods      1\n",
       "8     None     None  theres emergency evacuation happening building...      1\n",
       "9     None     None                         afraid tornado coming area      1\n",
       "10    None     None                    three people died heat wave far      1\n",
       "11    None     None  haha south tampa getting flooded hah wait seco...      1\n",
       "12    None     None  raining flooding florida tampabay tampa days i...      1\n",
       "13    None     None                    flood bago myanmar arrived bago      1\n",
       "14    None     None               damage school bus car crash breaking      1"
      ]
     },
     "execution_count": 9,
     "metadata": {},
     "output_type": "execute_result"
    }
   ],
   "source": [
    "stopwords.words('english')\n",
    "stopwords_list = stopwords.words()\n",
    "\n",
    "dataset_array = dataset.to_numpy()\n",
    "\n",
    "for i in range(len(dataset_array)):\n",
    "    dataset_array[i][2] = remove_stepwords(clean_txt(dataset_array[i][2]))\n",
    "\n",
    "clean_dataset = pd.DataFrame(dataset_array,columns=['keyword','location','text','target'])\n",
    "\n",
    "clean_dataset[:15]"
   ]
  },
  {
   "cell_type": "markdown",
   "metadata": {
    "id": "0V7uU7_ki-u9"
   },
   "source": [
    "Guardado del archivo en un archivo nuevo llamado clean_data.csv para el análisis exploratorio."
   ]
  },
  {
   "cell_type": "code",
   "execution_count": 10,
   "metadata": {
    "id": "mKShTmIni-U5"
   },
   "outputs": [],
   "source": [
    "clean_dataset.to_csv('clean_data.csv',index=False)"
   ]
  },
  {
   "cell_type": "code",
   "execution_count": null,
   "metadata": {},
   "outputs": [],
   "source": []
  }
 ],
 "metadata": {
  "colab": {
   "collapsed_sections": [],
   "name": "Project2.ipynb",
   "provenance": []
  },
  "kernelspec": {
   "display_name": "Python 3",
   "language": "python",
   "name": "python3"
  },
  "language_info": {
   "codemirror_mode": {
    "name": "ipython",
    "version": 3
   },
   "file_extension": ".py",
   "mimetype": "text/x-python",
   "name": "python",
   "nbconvert_exporter": "python",
   "pygments_lexer": "ipython3",
   "version": "3.7.3"
  }
 },
 "nbformat": 4,
 "nbformat_minor": 1
}
