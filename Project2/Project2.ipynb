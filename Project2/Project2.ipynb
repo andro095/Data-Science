{
  "nbformat": 4,
  "nbformat_minor": 2,
  "metadata": {
    "colab": {
      "name": "Project2.ipynb",
      "provenance": [],
      "collapsed_sections": []
    },
    "kernelspec": {
      "name": "python3",
      "display_name": "Python 3.9.2 64-bit"
    },
    "language_info": {
      "name": "python",
      "version": "3.9.2",
      "mimetype": "text/x-python",
      "codemirror_mode": {
        "name": "ipython",
        "version": 3
      },
      "pygments_lexer": "ipython3",
      "nbconvert_exporter": "python",
      "file_extension": ".py"
    },
    "interpreter": {
      "hash": "b0e37b52de81b42c89820adebd162f26ec36a04eb94768ecb3ff90c62fe5871b"
    }
  },
  "cells": [
    {
      "cell_type": "markdown",
      "source": [
        "# Proyecto 2\n",
        "|      Nombre     | Carnet |\n",
        "|:---------------:|:------:|\n",
        "| André Rodríguez |  18332 |\n",
        "|   Cesar Rodas   |  16776 |\n",
        "|  Javier Ramirez |  18099 |\n",
        "\n",
        "### Importación de librerías\n",
        "Se importan las librerías necesarias para el funcionamiento del laboratorio:"
      ],
      "metadata": {
        "id": "XyTLeqB6NGSB"
      }
    },
    {
      "cell_type": "code",
      "execution_count": 1,
      "source": [
        "import pandas as pd\r\n",
        "import numpy as np\r\n",
        "import nltk\r\n",
        "import re\r\n",
        "\r\n",
        "nltk.download('stopwords')\r\n",
        "\r\n",
        "from nltk.corpus import stopwords"
      ],
      "outputs": [
        {
          "output_type": "stream",
          "name": "stderr",
          "text": [
            "[nltk_data] Downloading package stopwords to\n",
            "[nltk_data]     C:\\Users\\cesarvin\\AppData\\Roaming\\nltk_data...\n",
            "[nltk_data]   Package stopwords is already up-to-date!\n"
          ]
        }
      ],
      "metadata": {
        "colab": {
          "base_uri": "https://localhost:8080/"
        },
        "id": "wPwOJdAeMxqq",
        "outputId": "5cfc0d67-a270-4c87-bba8-08893d677f97"
      }
    },
    {
      "cell_type": "markdown",
      "source": [
        "Se carga el dataset original desde el archivo train.csv"
      ],
      "metadata": {
        "id": "Hbj1IRTsNw2j"
      }
    },
    {
      "cell_type": "code",
      "execution_count": 2,
      "source": [
        "dataset = pd.read_csv('train.csv')\r\n",
        "dataset[:5]"
      ],
      "outputs": [
        {
          "output_type": "execute_result",
          "data": {
            "text/html": [
              "<div>\n",
              "<style scoped>\n",
              "    .dataframe tbody tr th:only-of-type {\n",
              "        vertical-align: middle;\n",
              "    }\n",
              "\n",
              "    .dataframe tbody tr th {\n",
              "        vertical-align: top;\n",
              "    }\n",
              "\n",
              "    .dataframe thead th {\n",
              "        text-align: right;\n",
              "    }\n",
              "</style>\n",
              "<table border=\"1\" class=\"dataframe\">\n",
              "  <thead>\n",
              "    <tr style=\"text-align: right;\">\n",
              "      <th></th>\n",
              "      <th>id</th>\n",
              "      <th>keyword</th>\n",
              "      <th>location</th>\n",
              "      <th>text</th>\n",
              "      <th>target</th>\n",
              "    </tr>\n",
              "  </thead>\n",
              "  <tbody>\n",
              "    <tr>\n",
              "      <th>0</th>\n",
              "      <td>1</td>\n",
              "      <td>NaN</td>\n",
              "      <td>NaN</td>\n",
              "      <td>Our Deeds are the Reason of this #earthquake M...</td>\n",
              "      <td>1</td>\n",
              "    </tr>\n",
              "    <tr>\n",
              "      <th>1</th>\n",
              "      <td>4</td>\n",
              "      <td>NaN</td>\n",
              "      <td>NaN</td>\n",
              "      <td>Forest fire near La Ronge Sask. Canada</td>\n",
              "      <td>1</td>\n",
              "    </tr>\n",
              "    <tr>\n",
              "      <th>2</th>\n",
              "      <td>5</td>\n",
              "      <td>NaN</td>\n",
              "      <td>NaN</td>\n",
              "      <td>All residents asked to 'shelter in place' are ...</td>\n",
              "      <td>1</td>\n",
              "    </tr>\n",
              "    <tr>\n",
              "      <th>3</th>\n",
              "      <td>6</td>\n",
              "      <td>NaN</td>\n",
              "      <td>NaN</td>\n",
              "      <td>13,000 people receive #wildfires evacuation or...</td>\n",
              "      <td>1</td>\n",
              "    </tr>\n",
              "    <tr>\n",
              "      <th>4</th>\n",
              "      <td>7</td>\n",
              "      <td>NaN</td>\n",
              "      <td>NaN</td>\n",
              "      <td>Just got sent this photo from Ruby #Alaska as ...</td>\n",
              "      <td>1</td>\n",
              "    </tr>\n",
              "  </tbody>\n",
              "</table>\n",
              "</div>"
            ],
            "text/plain": [
              "   id keyword location                                               text  \\\n",
              "0   1     NaN      NaN  Our Deeds are the Reason of this #earthquake M...   \n",
              "1   4     NaN      NaN             Forest fire near La Ronge Sask. Canada   \n",
              "2   5     NaN      NaN  All residents asked to 'shelter in place' are ...   \n",
              "3   6     NaN      NaN  13,000 people receive #wildfires evacuation or...   \n",
              "4   7     NaN      NaN  Just got sent this photo from Ruby #Alaska as ...   \n",
              "\n",
              "   target  \n",
              "0       1  \n",
              "1       1  \n",
              "2       1  \n",
              "3       1  \n",
              "4       1  "
            ]
          },
          "metadata": {},
          "execution_count": 2
        }
      ],
      "metadata": {
        "colab": {
          "base_uri": "https://localhost:8080/",
          "height": 204
        },
        "id": "qkYkj2h8NQJb",
        "outputId": "6caefcbc-c8ca-4877-a905-9085c3d7d726"
      }
    },
    {
      "cell_type": "markdown",
      "source": [
        "Tamaño del dataset original."
      ],
      "metadata": {
        "id": "OOR3OsiXOPSu"
      }
    },
    {
      "cell_type": "code",
      "execution_count": 3,
      "source": [
        "print(\"Columnas: \" + str(dataset.shape[1]))\r\n",
        "print(\"Filas: \" + str(dataset.shape[0]))"
      ],
      "outputs": [
        {
          "output_type": "stream",
          "name": "stdout",
          "text": [
            "Columnas: 5\n",
            "Filas: 7613\n"
          ]
        }
      ],
      "metadata": {
        "colab": {
          "base_uri": "https://localhost:8080/"
        },
        "id": "1L2_6K_jN0wf",
        "outputId": "9c342348-ba40-4121-c2c5-c6a94bcec945"
      }
    },
    {
      "cell_type": "markdown",
      "source": [
        "Tipo de columnas en el dataset original"
      ],
      "metadata": {
        "id": "_6Ln0DAXb_kx"
      }
    },
    {
      "cell_type": "code",
      "execution_count": 4,
      "source": [
        "display(dataset.dtypes)"
      ],
      "outputs": [
        {
          "output_type": "display_data",
          "data": {
            "text/plain": [
              "id           int64\n",
              "keyword     object\n",
              "location    object\n",
              "text        object\n",
              "target       int64\n",
              "dtype: object"
            ]
          },
          "metadata": {}
        }
      ],
      "metadata": {
        "colab": {
          "base_uri": "https://localhost:8080/",
          "height": 119
        },
        "id": "T4CTUd84b-hh",
        "outputId": "7a389a75-9bb0-4ba7-9a1f-e5fc77332223"
      }
    },
    {
      "cell_type": "markdown",
      "source": [
        " - Se elimina la columna de id\n",
        " - Se convierten las columnas de keyword, location y text a tipo 'string'\n",
        " - Se cambian los valores NaN por la palabra \"None\" en las columnas keyword y location."
      ],
      "metadata": {
        "id": "z5W4R5gybNc3"
      }
    },
    {
      "cell_type": "code",
      "execution_count": 5,
      "source": [
        "if 'id' in dataset.columns: del dataset['id']\r\n",
        "\r\n",
        "dataset['keyword'].fillna('None',inplace=True)\r\n",
        "dataset['location'].fillna('None',inplace=True)\r\n",
        "dataset['text'].fillna('None',inplace=True)\r\n",
        "\r\n",
        "dataset['keyword'] = dataset['keyword'].astype(str)\r\n",
        "dataset['location'] = dataset['location'].astype(str)\r\n",
        "dataset['text'] = dataset['text'].astype(str)\r\n",
        "\r\n",
        "dataset[:15]"
      ],
      "outputs": [
        {
          "output_type": "execute_result",
          "data": {
            "text/html": [
              "<div>\n",
              "<style scoped>\n",
              "    .dataframe tbody tr th:only-of-type {\n",
              "        vertical-align: middle;\n",
              "    }\n",
              "\n",
              "    .dataframe tbody tr th {\n",
              "        vertical-align: top;\n",
              "    }\n",
              "\n",
              "    .dataframe thead th {\n",
              "        text-align: right;\n",
              "    }\n",
              "</style>\n",
              "<table border=\"1\" class=\"dataframe\">\n",
              "  <thead>\n",
              "    <tr style=\"text-align: right;\">\n",
              "      <th></th>\n",
              "      <th>keyword</th>\n",
              "      <th>location</th>\n",
              "      <th>text</th>\n",
              "      <th>target</th>\n",
              "    </tr>\n",
              "  </thead>\n",
              "  <tbody>\n",
              "    <tr>\n",
              "      <th>0</th>\n",
              "      <td>None</td>\n",
              "      <td>None</td>\n",
              "      <td>Our Deeds are the Reason of this #earthquake M...</td>\n",
              "      <td>1</td>\n",
              "    </tr>\n",
              "    <tr>\n",
              "      <th>1</th>\n",
              "      <td>None</td>\n",
              "      <td>None</td>\n",
              "      <td>Forest fire near La Ronge Sask. Canada</td>\n",
              "      <td>1</td>\n",
              "    </tr>\n",
              "    <tr>\n",
              "      <th>2</th>\n",
              "      <td>None</td>\n",
              "      <td>None</td>\n",
              "      <td>All residents asked to 'shelter in place' are ...</td>\n",
              "      <td>1</td>\n",
              "    </tr>\n",
              "    <tr>\n",
              "      <th>3</th>\n",
              "      <td>None</td>\n",
              "      <td>None</td>\n",
              "      <td>13,000 people receive #wildfires evacuation or...</td>\n",
              "      <td>1</td>\n",
              "    </tr>\n",
              "    <tr>\n",
              "      <th>4</th>\n",
              "      <td>None</td>\n",
              "      <td>None</td>\n",
              "      <td>Just got sent this photo from Ruby #Alaska as ...</td>\n",
              "      <td>1</td>\n",
              "    </tr>\n",
              "    <tr>\n",
              "      <th>5</th>\n",
              "      <td>None</td>\n",
              "      <td>None</td>\n",
              "      <td>#RockyFire Update =&gt; California Hwy. 20 closed...</td>\n",
              "      <td>1</td>\n",
              "    </tr>\n",
              "    <tr>\n",
              "      <th>6</th>\n",
              "      <td>None</td>\n",
              "      <td>None</td>\n",
              "      <td>#flood #disaster Heavy rain causes flash flood...</td>\n",
              "      <td>1</td>\n",
              "    </tr>\n",
              "    <tr>\n",
              "      <th>7</th>\n",
              "      <td>None</td>\n",
              "      <td>None</td>\n",
              "      <td>I'm on top of the hill and I can see a fire in...</td>\n",
              "      <td>1</td>\n",
              "    </tr>\n",
              "    <tr>\n",
              "      <th>8</th>\n",
              "      <td>None</td>\n",
              "      <td>None</td>\n",
              "      <td>There's an emergency evacuation happening now ...</td>\n",
              "      <td>1</td>\n",
              "    </tr>\n",
              "    <tr>\n",
              "      <th>9</th>\n",
              "      <td>None</td>\n",
              "      <td>None</td>\n",
              "      <td>I'm afraid that the tornado is coming to our a...</td>\n",
              "      <td>1</td>\n",
              "    </tr>\n",
              "    <tr>\n",
              "      <th>10</th>\n",
              "      <td>None</td>\n",
              "      <td>None</td>\n",
              "      <td>Three people died from the heat wave so far</td>\n",
              "      <td>1</td>\n",
              "    </tr>\n",
              "    <tr>\n",
              "      <th>11</th>\n",
              "      <td>None</td>\n",
              "      <td>None</td>\n",
              "      <td>Haha South Tampa is getting flooded hah- WAIT ...</td>\n",
              "      <td>1</td>\n",
              "    </tr>\n",
              "    <tr>\n",
              "      <th>12</th>\n",
              "      <td>None</td>\n",
              "      <td>None</td>\n",
              "      <td>#raining #flooding #Florida #TampaBay #Tampa 1...</td>\n",
              "      <td>1</td>\n",
              "    </tr>\n",
              "    <tr>\n",
              "      <th>13</th>\n",
              "      <td>None</td>\n",
              "      <td>None</td>\n",
              "      <td>#Flood in Bago Myanmar #We arrived Bago</td>\n",
              "      <td>1</td>\n",
              "    </tr>\n",
              "    <tr>\n",
              "      <th>14</th>\n",
              "      <td>None</td>\n",
              "      <td>None</td>\n",
              "      <td>Damage to school bus on 80 in multi car crash ...</td>\n",
              "      <td>1</td>\n",
              "    </tr>\n",
              "  </tbody>\n",
              "</table>\n",
              "</div>"
            ],
            "text/plain": [
              "   keyword location                                               text  target\n",
              "0     None     None  Our Deeds are the Reason of this #earthquake M...       1\n",
              "1     None     None             Forest fire near La Ronge Sask. Canada       1\n",
              "2     None     None  All residents asked to 'shelter in place' are ...       1\n",
              "3     None     None  13,000 people receive #wildfires evacuation or...       1\n",
              "4     None     None  Just got sent this photo from Ruby #Alaska as ...       1\n",
              "5     None     None  #RockyFire Update => California Hwy. 20 closed...       1\n",
              "6     None     None  #flood #disaster Heavy rain causes flash flood...       1\n",
              "7     None     None  I'm on top of the hill and I can see a fire in...       1\n",
              "8     None     None  There's an emergency evacuation happening now ...       1\n",
              "9     None     None  I'm afraid that the tornado is coming to our a...       1\n",
              "10    None     None        Three people died from the heat wave so far       1\n",
              "11    None     None  Haha South Tampa is getting flooded hah- WAIT ...       1\n",
              "12    None     None  #raining #flooding #Florida #TampaBay #Tampa 1...       1\n",
              "13    None     None            #Flood in Bago Myanmar #We arrived Bago       1\n",
              "14    None     None  Damage to school bus on 80 in multi car crash ...       1"
            ]
          },
          "metadata": {},
          "execution_count": 5
        }
      ],
      "metadata": {
        "colab": {
          "base_uri": "https://localhost:8080/",
          "height": 514
        },
        "id": "a98qkNwobMRZ",
        "outputId": "ee136a37-bd8c-4359-89ed-5027fecd6d86"
      }
    },
    {
      "cell_type": "markdown",
      "source": [
        "Se muestran nuevamente las columnas del dataset luego del procesamiento."
      ],
      "metadata": {
        "id": "MdkFJHZmgtsw"
      }
    },
    {
      "cell_type": "code",
      "execution_count": 6,
      "source": [
        "display(dataset.dtypes)"
      ],
      "outputs": [
        {
          "output_type": "display_data",
          "data": {
            "text/plain": [
              "keyword     object\n",
              "location    object\n",
              "text        object\n",
              "target       int64\n",
              "dtype: object"
            ]
          },
          "metadata": {}
        }
      ],
      "metadata": {
        "colab": {
          "base_uri": "https://localhost:8080/",
          "height": 102
        },
        "id": "wlxoJDd4gR3Y",
        "outputId": "80ad9d1a-2d13-4ef2-e6b3-f1d93085ece1"
      }
    },
    {
      "cell_type": "markdown",
      "source": [
        "Eliminación de stopwords en la columna de text. Para ello, se convierten todas las palabras en la oracion a minuscula y luego se elimnan las stopwords."
      ],
      "metadata": {
        "id": "V9KdKyq1hoVW"
      }
    },
    {
      "cell_type": "code",
      "execution_count": 7,
      "source": [
        "# funcion para limpiar archivos\r\n",
        "def clean_txt(str):\r\n",
        "    return_text = ''\r\n",
        "    # removiendo links\r\n",
        "    text = re.sub(r'^https?:\\/\\/.*[\\r\\n]*', '', str)\r\n",
        "\r\n",
        "    # remover caracteres\r\n",
        "    for i, caracter in enumerate(text):\r\n",
        "        # convierte a minusculas\r\n",
        "        caracter = caracter.lower()\r\n",
        "        try:\r\n",
        "          # remueve cualquier caracter que no sea una letra minuscula o espacio, incluyendo numeros\r\n",
        "          if ord(caracter) != 32 and (ord(caracter) < 97 or ord(caracter) > 122) :\r\n",
        "              return_text = return_text + ''\r\n",
        "          else:\r\n",
        "              return_text = return_text + caracter\r\n",
        "        except: \r\n",
        "            return_text = return_text + ''\r\n",
        "\r\n",
        "    \r\n",
        "    return return_text.strip()"
      ],
      "outputs": [],
      "metadata": {
        "id": "mPzNdGFWhdXt"
      }
    },
    {
      "cell_type": "code",
      "execution_count": 8,
      "source": [
        "# funcion para remover stepwords\r\n",
        "def remove_stepwords(str):\r\n",
        "    word_tokens = str.split()\r\n",
        "    clean_str = ''\r\n",
        "\r\n",
        "    for word in word_tokens:\r\n",
        "        if word not in stopwords_list:\r\n",
        "            if clean_str == '':\r\n",
        "              clean_str += word\r\n",
        "            else:\r\n",
        "              clean_str += ' ' + word\r\n",
        "    \r\n",
        "    return clean_str"
      ],
      "outputs": [],
      "metadata": {
        "id": "CSZxhiH3htQL"
      }
    },
    {
      "cell_type": "code",
      "execution_count": 9,
      "source": [
        "stopwords.words('english')\r\n",
        "stopwords_list = stopwords.words()\r\n",
        "\r\n",
        "dataset_array = dataset.to_numpy()\r\n",
        "\r\n",
        "for i in range(len(dataset_array)):\r\n",
        "    dataset_array[i][2] = remove_stepwords(clean_txt(dataset_array[i][2]))\r\n",
        "\r\n",
        "clean_dataset = pd.DataFrame(dataset_array,columns=['keyword','location','text','target'])\r\n",
        "\r\n",
        "clean_dataset[:15]"
      ],
      "outputs": [
        {
          "output_type": "execute_result",
          "data": {
            "text/html": [
              "<div>\n",
              "<style scoped>\n",
              "    .dataframe tbody tr th:only-of-type {\n",
              "        vertical-align: middle;\n",
              "    }\n",
              "\n",
              "    .dataframe tbody tr th {\n",
              "        vertical-align: top;\n",
              "    }\n",
              "\n",
              "    .dataframe thead th {\n",
              "        text-align: right;\n",
              "    }\n",
              "</style>\n",
              "<table border=\"1\" class=\"dataframe\">\n",
              "  <thead>\n",
              "    <tr style=\"text-align: right;\">\n",
              "      <th></th>\n",
              "      <th>keyword</th>\n",
              "      <th>location</th>\n",
              "      <th>text</th>\n",
              "      <th>target</th>\n",
              "    </tr>\n",
              "  </thead>\n",
              "  <tbody>\n",
              "    <tr>\n",
              "      <th>0</th>\n",
              "      <td>None</td>\n",
              "      <td>None</td>\n",
              "      <td>deeds reason earthquake may allah forgive us</td>\n",
              "      <td>1</td>\n",
              "    </tr>\n",
              "    <tr>\n",
              "      <th>1</th>\n",
              "      <td>None</td>\n",
              "      <td>None</td>\n",
              "      <td>forest fire near ronge sask canada</td>\n",
              "      <td>1</td>\n",
              "    </tr>\n",
              "    <tr>\n",
              "      <th>2</th>\n",
              "      <td>None</td>\n",
              "      <td>None</td>\n",
              "      <td>residents asked shelter place notified officer...</td>\n",
              "      <td>1</td>\n",
              "    </tr>\n",
              "    <tr>\n",
              "      <th>3</th>\n",
              "      <td>None</td>\n",
              "      <td>None</td>\n",
              "      <td>people receive wildfires evacuation orders cal...</td>\n",
              "      <td>1</td>\n",
              "    </tr>\n",
              "    <tr>\n",
              "      <th>4</th>\n",
              "      <td>None</td>\n",
              "      <td>None</td>\n",
              "      <td>got sent photo ruby alaska smoke wildfires pou...</td>\n",
              "      <td>1</td>\n",
              "    </tr>\n",
              "    <tr>\n",
              "      <th>5</th>\n",
              "      <td>None</td>\n",
              "      <td>None</td>\n",
              "      <td>rockyfire update california hwy closed directi...</td>\n",
              "      <td>1</td>\n",
              "    </tr>\n",
              "    <tr>\n",
              "      <th>6</th>\n",
              "      <td>None</td>\n",
              "      <td>None</td>\n",
              "      <td>flood disaster heavy rain causes flash floodin...</td>\n",
              "      <td>1</td>\n",
              "    </tr>\n",
              "    <tr>\n",
              "      <th>7</th>\n",
              "      <td>None</td>\n",
              "      <td>None</td>\n",
              "      <td>top hill see fire woods</td>\n",
              "      <td>1</td>\n",
              "    </tr>\n",
              "    <tr>\n",
              "      <th>8</th>\n",
              "      <td>None</td>\n",
              "      <td>None</td>\n",
              "      <td>theres emergency evacuation happening building...</td>\n",
              "      <td>1</td>\n",
              "    </tr>\n",
              "    <tr>\n",
              "      <th>9</th>\n",
              "      <td>None</td>\n",
              "      <td>None</td>\n",
              "      <td>afraid tornado coming area</td>\n",
              "      <td>1</td>\n",
              "    </tr>\n",
              "    <tr>\n",
              "      <th>10</th>\n",
              "      <td>None</td>\n",
              "      <td>None</td>\n",
              "      <td>three people died heat wave far</td>\n",
              "      <td>1</td>\n",
              "    </tr>\n",
              "    <tr>\n",
              "      <th>11</th>\n",
              "      <td>None</td>\n",
              "      <td>None</td>\n",
              "      <td>haha south tampa getting flooded hah wait seco...</td>\n",
              "      <td>1</td>\n",
              "    </tr>\n",
              "    <tr>\n",
              "      <th>12</th>\n",
              "      <td>None</td>\n",
              "      <td>None</td>\n",
              "      <td>raining flooding florida tampabay tampa days i...</td>\n",
              "      <td>1</td>\n",
              "    </tr>\n",
              "    <tr>\n",
              "      <th>13</th>\n",
              "      <td>None</td>\n",
              "      <td>None</td>\n",
              "      <td>flood bago myanmar arrived bago</td>\n",
              "      <td>1</td>\n",
              "    </tr>\n",
              "    <tr>\n",
              "      <th>14</th>\n",
              "      <td>None</td>\n",
              "      <td>None</td>\n",
              "      <td>damage school bus car crash breaking</td>\n",
              "      <td>1</td>\n",
              "    </tr>\n",
              "  </tbody>\n",
              "</table>\n",
              "</div>"
            ],
            "text/plain": [
              "   keyword location                                               text target\n",
              "0     None     None       deeds reason earthquake may allah forgive us      1\n",
              "1     None     None                 forest fire near ronge sask canada      1\n",
              "2     None     None  residents asked shelter place notified officer...      1\n",
              "3     None     None  people receive wildfires evacuation orders cal...      1\n",
              "4     None     None  got sent photo ruby alaska smoke wildfires pou...      1\n",
              "5     None     None  rockyfire update california hwy closed directi...      1\n",
              "6     None     None  flood disaster heavy rain causes flash floodin...      1\n",
              "7     None     None                            top hill see fire woods      1\n",
              "8     None     None  theres emergency evacuation happening building...      1\n",
              "9     None     None                         afraid tornado coming area      1\n",
              "10    None     None                    three people died heat wave far      1\n",
              "11    None     None  haha south tampa getting flooded hah wait seco...      1\n",
              "12    None     None  raining flooding florida tampabay tampa days i...      1\n",
              "13    None     None                    flood bago myanmar arrived bago      1\n",
              "14    None     None               damage school bus car crash breaking      1"
            ]
          },
          "metadata": {},
          "execution_count": 9
        }
      ],
      "metadata": {
        "colab": {
          "base_uri": "https://localhost:8080/",
          "height": 514
        },
        "id": "AMk7SvjyhxIv",
        "outputId": "0fe26cb2-148e-4fcd-beb3-f9ac0a0910e8"
      }
    },
    {
      "cell_type": "markdown",
      "source": [
        "Guardado del archivo en un archivo nuevo llamado clean_data.csv"
      ],
      "metadata": {
        "id": "0V7uU7_ki-u9"
      }
    },
    {
      "cell_type": "code",
      "execution_count": 10,
      "source": [
        "clean_dataset.to_csv('clean_data.csv',index=False)"
      ],
      "outputs": [],
      "metadata": {
        "id": "mKShTmIni-U5"
      }
    }
  ]
}