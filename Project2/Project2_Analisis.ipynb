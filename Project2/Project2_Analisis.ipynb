{
 "cells": [
  {
   "cell_type": "markdown",
   "source": [
    "# Proyecto 2 - Analisis Exploratorio\r\n",
    "|      Nombre     | Carnet |\r\n",
    "|:---------------:|:------:|\r\n",
    "| André Rodríguez |  18332 |\r\n",
    "|   Cesar Rodas   |  16776 |\r\n",
    "|  Javier Ramirez |  18099 |\r\n",
    "|  Abril Palencia |  18198 |\r\n",
    "\r\n",
    "### Importación de librerías\r\n",
    "Se importan las librerías necesarias para el funcionamiento del laboratorio:"
   ],
   "metadata": {}
  },
  {
   "cell_type": "code",
   "execution_count": 1,
   "source": [
    "import pandas as pd\r\n",
    "from collections import Counter\r\n",
    "from wordcloud import WordCloud\r\n",
    "import matplotlib.pyplot as plt"
   ],
   "outputs": [],
   "metadata": {}
  },
  {
   "cell_type": "markdown",
   "source": [
    "Se carga el archivo con los datos preprocesados"
   ],
   "metadata": {}
  },
  {
   "cell_type": "code",
   "execution_count": 2,
   "source": [
    "data_tw = pd.read_csv('clean_data.csv')\r\n",
    "\r\n",
    "data_tw[:5]"
   ],
   "outputs": [
    {
     "output_type": "execute_result",
     "data": {
      "text/html": [
       "<div>\n",
       "<style scoped>\n",
       "    .dataframe tbody tr th:only-of-type {\n",
       "        vertical-align: middle;\n",
       "    }\n",
       "\n",
       "    .dataframe tbody tr th {\n",
       "        vertical-align: top;\n",
       "    }\n",
       "\n",
       "    .dataframe thead th {\n",
       "        text-align: right;\n",
       "    }\n",
       "</style>\n",
       "<table border=\"1\" class=\"dataframe\">\n",
       "  <thead>\n",
       "    <tr style=\"text-align: right;\">\n",
       "      <th></th>\n",
       "      <th>keyword</th>\n",
       "      <th>location</th>\n",
       "      <th>text</th>\n",
       "      <th>target</th>\n",
       "    </tr>\n",
       "  </thead>\n",
       "  <tbody>\n",
       "    <tr>\n",
       "      <th>0</th>\n",
       "      <td>None</td>\n",
       "      <td>None</td>\n",
       "      <td>deeds reason earthquake may allah forgive us</td>\n",
       "      <td>1</td>\n",
       "    </tr>\n",
       "    <tr>\n",
       "      <th>1</th>\n",
       "      <td>None</td>\n",
       "      <td>None</td>\n",
       "      <td>forest fire near ronge sask canada</td>\n",
       "      <td>1</td>\n",
       "    </tr>\n",
       "    <tr>\n",
       "      <th>2</th>\n",
       "      <td>None</td>\n",
       "      <td>None</td>\n",
       "      <td>residents asked shelter place notified officer...</td>\n",
       "      <td>1</td>\n",
       "    </tr>\n",
       "    <tr>\n",
       "      <th>3</th>\n",
       "      <td>None</td>\n",
       "      <td>None</td>\n",
       "      <td>people receive wildfires evacuation orders cal...</td>\n",
       "      <td>1</td>\n",
       "    </tr>\n",
       "    <tr>\n",
       "      <th>4</th>\n",
       "      <td>None</td>\n",
       "      <td>None</td>\n",
       "      <td>got sent photo ruby alaska smoke wildfires pou...</td>\n",
       "      <td>1</td>\n",
       "    </tr>\n",
       "  </tbody>\n",
       "</table>\n",
       "</div>"
      ],
      "text/plain": [
       "  keyword location                                               text  target\n",
       "0    None     None       deeds reason earthquake may allah forgive us       1\n",
       "1    None     None                 forest fire near ronge sask canada       1\n",
       "2    None     None  residents asked shelter place notified officer...       1\n",
       "3    None     None  people receive wildfires evacuation orders cal...       1\n",
       "4    None     None  got sent photo ruby alaska smoke wildfires pou...       1"
      ]
     },
     "metadata": {},
     "execution_count": 2
    }
   ],
   "metadata": {}
  },
  {
   "cell_type": "markdown",
   "source": [
    "## Analisis Exploratorio\r\n",
    "\r\n",
    "Funciones para obtener información para el analisis exploratorio."
   ],
   "metadata": {}
  },
  {
   "cell_type": "code",
   "execution_count": 3,
   "source": [
    "# Funcion para mostrar los 10 items mas frecuentes en una columna de un dataset\r\n",
    "def show_dataset_frequency(dataset,column_name,separator,limit):\r\n",
    "  dataset[column_name] = dataset[column_name].astype(str)\r\n",
    "\r\n",
    "  categories = [line.split(separator) for line in dataset[column_name]]\r\n",
    "\r\n",
    "  categories = [y for x in categories for y in x]\r\n",
    "\r\n",
    "  freq = dict(Counter(categories))\r\n",
    "\r\n",
    "  sorted_freq = sorted(freq.items(), key=lambda x:x[1])\r\n",
    "\r\n",
    "  for x in range(1,limit+1):\r\n",
    "    item = sorted_freq[len(sorted_freq)-x]\r\n",
    "    print(str(x) + \". \" + item[0] + \" => \" + str(item[1]))"
   ],
   "outputs": [],
   "metadata": {}
  },
  {
   "cell_type": "code",
   "execution_count": 4,
   "source": [
    "# Funcion para mostrar la nube de palabras\r\n",
    "def generate_word_cloud(arr,title):\r\n",
    "  word_map = WordCloud(background_color='white',).generate(\" \".join(arr))\r\n",
    "  plt.figure(figsize=(10,10))\r\n",
    "  plt.imshow(word_map)\r\n",
    "  plt.title(\"Nube de palabras \" + title)\r\n",
    "  plt.show()"
   ],
   "outputs": [],
   "metadata": {}
  }
 ],
 "metadata": {
  "orig_nbformat": 4,
  "language_info": {
   "name": "python",
   "version": "3.9.2",
   "mimetype": "text/x-python",
   "codemirror_mode": {
    "name": "ipython",
    "version": 3
   },
   "pygments_lexer": "ipython3",
   "nbconvert_exporter": "python",
   "file_extension": ".py"
  },
  "kernelspec": {
   "name": "python3",
   "display_name": "Python 3.9.2 64-bit"
  },
  "interpreter": {
   "hash": "b0e37b52de81b42c89820adebd162f26ec36a04eb94768ecb3ff90c62fe5871b"
  }
 },
 "nbformat": 4,
 "nbformat_minor": 2
}