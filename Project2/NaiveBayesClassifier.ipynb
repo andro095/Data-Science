{
 "nbformat": 4,
 "nbformat_minor": 0,
 "metadata": {
  "colab": {
   "name": "NaiveBayesClassifier.ipynb",
   "provenance": [],
   "collapsed_sections": []
  },
  "kernelspec": {
   "name": "python3",
   "display_name": "Python 3"
  },
  "language_info": {
   "name": "python"
  }
 },
 "cells": [
  {
   "cell_type": "markdown",
   "metadata": {
    "id": "wVLDbkcmT44R"
   },
   "source": [
    "# Proyecto 2: Modelo de predicción Naive Bayes\n",
    "|      Nombre     | Carnet |\n",
    "|:---------------:|:------:|\n",
    "| André Rodríguez |  18332 |\n",
    "|   Cesar Rodas   |  16776 |\n",
    "|  Javier Ramirez |  18099 |\n",
    "|  Abril Palencia |  18198 |\n",
    "\n",
    "## Importación de librerías"
   ]
  },
  {
   "cell_type": "code",
   "metadata": {
    "id": "SAoBZJrIQ0-b"
   },
   "source": [
    "import pandas as pd\n",
    "import numpy as np\n",
    "import re\n",
    "import matplotlib.pyplot as plt\n",
    "import seaborn as sns; sns.set()\n",
    "from sklearn.feature_extraction.text import TfidfVectorizer\n",
    "from sklearn.naive_bayes import MultinomialNB\n",
    "from sklearn.pipeline import make_pipeline\n",
    "from sklearn.metrics import confusion_matrix"
   ],
   "execution_count": 101,
   "outputs": []
  },
  {
   "cell_type": "markdown",
   "metadata": {
    "id": "uezYcBXjVNZY"
   },
   "source": [
    "## Carga de archivos\n",
    "\n",
    "Se carga el archivo clean_data.csv, el cual se encuentra ya procesado y contiene la siguiente informacion:\n",
    "- text: texto del tweet preprocesado\n",
    "- target: 1 (Tweet de desastre) o 0 (tweet de no desastre)"
   ]
  },
  {
   "cell_type": "code",
   "metadata": {
    "colab": {
     "base_uri": "https://localhost:8080/",
     "height": 419
    },
    "id": "FSHC-nqXVM7L",
    "outputId": "1a809a24-8f65-4ec2-ad44-94ee2187a1c5"
   },
   "source": [
    "data = pd.read_csv(\"../clean_data.csv\")\n",
    "\n",
    "df_non_emergency = data[data['target']==0]\n",
    "df_emergency = data[data['target']==1]\n",
    "\n",
    "df_emergency"
   ],
   "execution_count": 1,
   "outputs": [
    {
     "ename": "NameError",
     "evalue": "name 'pd' is not defined",
     "output_type": "error",
     "traceback": [
      "\u001B[1;31m---------------------------------------------------------------------------\u001B[0m",
      "\u001B[1;31mNameError\u001B[0m                                 Traceback (most recent call last)",
      "\u001B[1;32m<ipython-input-1-8562862b1ee4>\u001B[0m in \u001B[0;36m<module>\u001B[1;34m\u001B[0m\n\u001B[1;32m----> 1\u001B[1;33m \u001B[0mdata\u001B[0m \u001B[1;33m=\u001B[0m \u001B[0mpd\u001B[0m\u001B[1;33m.\u001B[0m\u001B[0mread_csv\u001B[0m\u001B[1;33m(\u001B[0m\u001B[1;34m\"../clean_data.csv\"\u001B[0m\u001B[1;33m)\u001B[0m\u001B[1;33m\u001B[0m\u001B[1;33m\u001B[0m\u001B[0m\n\u001B[0m\u001B[0;32m      2\u001B[0m \u001B[1;33m\u001B[0m\u001B[0m\n\u001B[0;32m      3\u001B[0m \u001B[0mdf_non_emergency\u001B[0m \u001B[1;33m=\u001B[0m \u001B[0mdata\u001B[0m\u001B[1;33m[\u001B[0m\u001B[0mdata\u001B[0m\u001B[1;33m[\u001B[0m\u001B[1;34m'target'\u001B[0m\u001B[1;33m]\u001B[0m\u001B[1;33m==\u001B[0m\u001B[1;36m0\u001B[0m\u001B[1;33m]\u001B[0m\u001B[1;33m\u001B[0m\u001B[1;33m\u001B[0m\u001B[0m\n\u001B[0;32m      4\u001B[0m \u001B[0mdf_emergency\u001B[0m \u001B[1;33m=\u001B[0m \u001B[0mdata\u001B[0m\u001B[1;33m[\u001B[0m\u001B[0mdata\u001B[0m\u001B[1;33m[\u001B[0m\u001B[1;34m'target'\u001B[0m\u001B[1;33m]\u001B[0m\u001B[1;33m==\u001B[0m\u001B[1;36m1\u001B[0m\u001B[1;33m]\u001B[0m\u001B[1;33m\u001B[0m\u001B[1;33m\u001B[0m\u001B[0m\n\u001B[0;32m      5\u001B[0m \u001B[1;33m\u001B[0m\u001B[0m\n",
      "\u001B[1;31mNameError\u001B[0m: name 'pd' is not defined"
     ]
    }
   ]
  },
  {
   "cell_type": "markdown",
   "metadata": {
    "id": "i0yXcwthp5I4"
   },
   "source": [
    "Debido a que se tiene más tweets de no emergencia que de emergencia, se iguala la cantidad de ambos conjuntos con el fin de mejorar la precisión del modelo de predicción."
   ]
  },
  {
   "cell_type": "code",
   "metadata": {
    "id": "RWakbxw6nquO"
   },
   "source": [
    "non_emergency_X, non_emergency_Y = df_non_emergency.text.sample(3271).fillna(' '), df_non_emergency.target.sample(3271).fillna(int(0))\n",
    "\n",
    "emergency_X, emergency_Y = df_emergency.text.fillna(' '), df_emergency.target.fillna(int(0))\n",
    "\n",
    "non_emergency_X = non_emergency_X.to_numpy()\n",
    "emergency_X = emergency_X.to_numpy()\n",
    "\n",
    "non_emergency_Y = non_emergency_Y.to_numpy()\n",
    "emergency_Y = emergency_Y.to_numpy()"
   ],
   "execution_count": 103,
   "outputs": []
  },
  {
   "cell_type": "markdown",
   "metadata": {
    "id": "x6rnPCE6p9cj"
   },
   "source": [
    "## Modelo de clasificacion\n",
    "\n",
    "Separacion de datos de entrenamiento y prueba para el modelo de clasificacion. Se necesitó el 80% del dataset para entrenar el modelo para que tuviera una buena precisión."
   ]
  },
  {
   "cell_type": "code",
   "metadata": {
    "id": "5uKQhpTlqAMl"
   },
   "source": [
    "X_train = np.concatenate((non_emergency_X[:int(len(non_emergency_X)*0.8)],\n",
    "                          emergency_X[:int(len(emergency_X)*0.8)]))\n",
    "X_test = np.concatenate((non_emergency_X[int(len(non_emergency_X)*0.7):],\n",
    "                         emergency_X[int(len(emergency_X)*0.7):]))\n",
    "\n",
    "Y_train = np.concatenate((non_emergency_Y[:int(len(non_emergency_Y)*0.8)],\n",
    "                          emergency_Y[:int(len(emergency_Y)*0.8)]))\n",
    "Y_test = np.concatenate((non_emergency_Y[int(len(non_emergency_Y)*0.7):],\n",
    "                         emergency_Y[int(len(emergency_Y)*0.7):]))"
   ],
   "execution_count": 120,
   "outputs": []
  },
  {
   "cell_type": "markdown",
   "metadata": {
    "id": "uK-hczADNAXy"
   },
   "source": [
    "Entrenamiento del modelo de predicción utilizando Naive Bayes."
   ]
  },
  {
   "cell_type": "code",
   "metadata": {
    "colab": {
     "base_uri": "https://localhost:8080/"
    },
    "id": "V1ptZp6cCAy9",
    "outputId": "cd23747c-776c-4da3-f864-ebbc77722958"
   },
   "source": [
    "model = make_pipeline(TfidfVectorizer(binary=True),MultinomialNB())\n",
    "model.fit(X_train,Y_train)"
   ],
   "execution_count": 121,
   "outputs": [
    {
     "output_type": "execute_result",
     "data": {
      "text/plain": [
       "Pipeline(memory=None,\n",
       "         steps=[('tfidfvectorizer',\n",
       "                 TfidfVectorizer(analyzer='word', binary=True,\n",
       "                                 decode_error='strict',\n",
       "                                 dtype=<class 'numpy.float64'>,\n",
       "                                 encoding='utf-8', input='content',\n",
       "                                 lowercase=True, max_df=1.0, max_features=None,\n",
       "                                 min_df=1, ngram_range=(1, 1), norm='l2',\n",
       "                                 preprocessor=None, smooth_idf=True,\n",
       "                                 stop_words=None, strip_accents=None,\n",
       "                                 sublinear_tf=False,\n",
       "                                 token_pattern='(?u)\\\\b\\\\w\\\\w+\\\\b',\n",
       "                                 tokenizer=None, use_idf=True,\n",
       "                                 vocabulary=None)),\n",
       "                ('multinomialnb',\n",
       "                 MultinomialNB(alpha=1.0, class_prior=None, fit_prior=True))],\n",
       "         verbose=False)"
      ]
     },
     "metadata": {},
     "execution_count": 121
    }
   ]
  },
  {
   "cell_type": "markdown",
   "metadata": {
    "id": "iJXUc5h3NGM7"
   },
   "source": [
    "Heatmap sobre el resultado del modelo de predicción sobre el conjunto de prueba."
   ]
  },
  {
   "cell_type": "code",
   "metadata": {
    "colab": {
     "base_uri": "https://localhost:8080/",
     "height": 285
    },
    "id": "4n167zyiCX4A",
    "outputId": "a37dabd6-f448-4203-82aa-f382ee4e32e4"
   },
   "source": [
    "labels = model.predict(X_test)\n",
    "\n",
    "mat = confusion_matrix(Y_test,labels)\n",
    "\n",
    "sns.heatmap(mat.T)"
   ],
   "execution_count": 122,
   "outputs": [
    {
     "output_type": "execute_result",
     "data": {
      "text/plain": [
       "<matplotlib.axes._subplots.AxesSubplot at 0x7f535ffc7f50>"
      ]
     },
     "metadata": {},
     "execution_count": 122
    },
    {
     "output_type": "display_data",
     "data": {
      "image/png": "[encoded data removed]",
      "text/plain": [
       "<Figure size 432x288 with 2 Axes>"
      ]
     },
     "metadata": {}
    }
   ]
  },
  {
   "cell_type": "code",
   "metadata": {
    "id": "uSeOB2e8C0Dj"
   },
   "source": [
    "# Función para predecir la categoría a la que pertenecería un string\n",
    "def predict_category(s,train=Y_train,model=model):\n",
    "  pred=model.predict([s])\n",
    "  print(\"Prediction: \"+str(pred[0]))\n",
    "  print(\"\\tDisaster Tweet\") if pred[0] == 1 else print(\"\\tNon Disaster Tweet\")"
   ],
   "execution_count": 146,
   "outputs": []
  },
  {
   "cell_type": "markdown",
   "metadata": {
    "id": "R6IJSs7dNWSg"
   },
   "source": [
    "Predicción de un string cualquiera."
   ]
  },
  {
   "cell_type": "code",
   "metadata": {
    "colab": {
     "base_uri": "https://localhost:8080/"
    },
    "id": "z6tC3bJCD8Xy",
    "outputId": "1255b017-28f9-4709-e4bd-602a2069b8d2"
   },
   "source": [
    "predict_category(\"Fire\")"
   ],
   "execution_count": 152,
   "outputs": [
    {
     "output_type": "stream",
     "name": "stdout",
     "text": [
      "Prediction: 1\n",
      "\tDisaster Tweet\n"
     ]
    }
   ]
  }
 ]
}